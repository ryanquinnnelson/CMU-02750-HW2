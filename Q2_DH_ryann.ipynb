{
 "cells": [
  {
   "cell_type": "markdown",
   "id": "statutory-maldives",
   "metadata": {},
   "source": [
    "# Question 2: DH algorithm (50 points)\n",
    "**In this question we are going to implement the DH algorithm according to the paper https://icml.cc/Conferences/2008/papers/324.pdf and try to predict protein localization sites in Eukaryotic cells.**"
   ]
  },
  {
   "cell_type": "markdown",
   "id": "romance-lucas",
   "metadata": {},
   "source": [
    "### Wald's Approximation\n",
    "\n",
    "$$\\hat{p}_{v,l} \\pm z_{\\alpha}\\sqrt{\\left( \\frac{\\hat{p}_{v,l}\\left( 1-\\hat{p}_{v,l} \\right)}{n} \\right)} $$\n",
    "\n",
    "where \n",
    "- $z_{\\alpha}$ is the $\\left( 1-\\frac{\\alpha}{2}\\right)$ percentile of the standard normal distribution $N(0,1)$"
   ]
  },
  {
   "cell_type": "markdown",
   "id": "massive-fourth",
   "metadata": {},
   "source": [
    "### Imports and Setup"
   ]
  },
  {
   "cell_type": "code",
   "execution_count": 1,
   "id": "collaborative-pakistan",
   "metadata": {},
   "outputs": [],
   "source": [
    "import copy\n",
    "import warnings\n",
    "import numpy as np \n",
    "import pandas as pd\n",
    "import matplotlib.pyplot as plt\n",
    "from sklearn.model_selection import train_test_split\n",
    "from scipy.cluster.hierarchy import dendrogram, linkage\n",
    "\n",
    "\n",
    "# custom packages\n",
    "import packages.dh.helper as helper\n",
    "import packages.dh.dh as dh\n",
    "\n",
    "# setup\n",
    "seed = 2021\n",
    "warnings. filterwarnings(\"ignore\")"
   ]
  },
  {
   "cell_type": "markdown",
   "id": "chubby-bridal",
   "metadata": {},
   "source": [
    "## Part 2.0 Data loading and hierarchical clustering\n",
    "**The DH algorithm is based on hierarchical clustering of the dataset. We will use the DH algorithm on this classification problem: [Protein Localization Prediction](https://archive.ics.uci.edu/ml/datasets/Yeast).**\n",
    "\n",
    "**The first step is to load the dataset and conduct a hierarchical clustring using the `scipy` package. This part has been implemented, read through the code to make sure you understand what is being done.**\n",
    "\n",
    "**NOTES:**\n",
    "- **X_train: data matrix 1200x8**\n",
    "- **Y_train: true labels 1200x1**\n",
    "- **X_test: data matrix 284x8**\n",
    "- **Y_test: true labels 284x1**\n",
    "\n",
    "**TIPS:**\n",
    "- **Check out this [link](https://docs.scipy.org/doc/scipy/reference/generated/scipy.cluster.hierarchy.linkage.html) for details about hierarchical clustering.**\n",
    "- **If you are unfamiliar with hierarchical clustering using scipy, [this](https://joernhees.de/blog/2015/08/26/scipy-hierarchical-clustering-and-dendrogram-tutorial/ ) is another helpful resource. (We won't use dendrograms here, but he gives a nice explanation of how to interpret the linkage matrix).**\n",
    "               "
   ]
  },
  {
   "cell_type": "markdown",
   "id": "italic-patrol",
   "metadata": {},
   "source": [
    "### Explore data"
   ]
  },
  {
   "cell_type": "code",
   "execution_count": 2,
   "id": "blessed-genius",
   "metadata": {},
   "outputs": [
    {
     "data": {
      "text/html": [
       "<div>\n",
       "<style scoped>\n",
       "    .dataframe tbody tr th:only-of-type {\n",
       "        vertical-align: middle;\n",
       "    }\n",
       "\n",
       "    .dataframe tbody tr th {\n",
       "        vertical-align: top;\n",
       "    }\n",
       "\n",
       "    .dataframe thead th {\n",
       "        text-align: right;\n",
       "    }\n",
       "</style>\n",
       "<table border=\"1\" class=\"dataframe\">\n",
       "  <thead>\n",
       "    <tr style=\"text-align: right;\">\n",
       "      <th></th>\n",
       "      <th>X1</th>\n",
       "      <th>X2</th>\n",
       "      <th>X3</th>\n",
       "      <th>X4</th>\n",
       "      <th>X5</th>\n",
       "      <th>X6</th>\n",
       "      <th>X7</th>\n",
       "      <th>X8</th>\n",
       "      <th>Label</th>\n",
       "    </tr>\n",
       "  </thead>\n",
       "  <tbody>\n",
       "    <tr>\n",
       "      <th>0</th>\n",
       "      <td>0.58</td>\n",
       "      <td>0.61</td>\n",
       "      <td>0.47</td>\n",
       "      <td>0.13</td>\n",
       "      <td>0.5</td>\n",
       "      <td>0.0</td>\n",
       "      <td>0.48</td>\n",
       "      <td>0.22</td>\n",
       "      <td>MIT</td>\n",
       "    </tr>\n",
       "    <tr>\n",
       "      <th>1</th>\n",
       "      <td>0.43</td>\n",
       "      <td>0.67</td>\n",
       "      <td>0.48</td>\n",
       "      <td>0.27</td>\n",
       "      <td>0.5</td>\n",
       "      <td>0.0</td>\n",
       "      <td>0.53</td>\n",
       "      <td>0.22</td>\n",
       "      <td>MIT</td>\n",
       "    </tr>\n",
       "    <tr>\n",
       "      <th>2</th>\n",
       "      <td>0.64</td>\n",
       "      <td>0.62</td>\n",
       "      <td>0.49</td>\n",
       "      <td>0.15</td>\n",
       "      <td>0.5</td>\n",
       "      <td>0.0</td>\n",
       "      <td>0.53</td>\n",
       "      <td>0.22</td>\n",
       "      <td>MIT</td>\n",
       "    </tr>\n",
       "    <tr>\n",
       "      <th>3</th>\n",
       "      <td>0.58</td>\n",
       "      <td>0.44</td>\n",
       "      <td>0.57</td>\n",
       "      <td>0.13</td>\n",
       "      <td>0.5</td>\n",
       "      <td>0.0</td>\n",
       "      <td>0.54</td>\n",
       "      <td>0.22</td>\n",
       "      <td>NUC</td>\n",
       "    </tr>\n",
       "    <tr>\n",
       "      <th>4</th>\n",
       "      <td>0.42</td>\n",
       "      <td>0.44</td>\n",
       "      <td>0.48</td>\n",
       "      <td>0.54</td>\n",
       "      <td>0.5</td>\n",
       "      <td>0.0</td>\n",
       "      <td>0.48</td>\n",
       "      <td>0.22</td>\n",
       "      <td>MIT</td>\n",
       "    </tr>\n",
       "  </tbody>\n",
       "</table>\n",
       "</div>"
      ],
      "text/plain": [
       "     X1    X2    X3    X4   X5   X6    X7    X8 Label\n",
       "0  0.58  0.61  0.47  0.13  0.5  0.0  0.48  0.22   MIT\n",
       "1  0.43  0.67  0.48  0.27  0.5  0.0  0.53  0.22   MIT\n",
       "2  0.64  0.62  0.49  0.15  0.5  0.0  0.53  0.22   MIT\n",
       "3  0.58  0.44  0.57  0.13  0.5  0.0  0.54  0.22   NUC\n",
       "4  0.42  0.44  0.48  0.54  0.5  0.0  0.48  0.22   MIT"
      ]
     },
     "execution_count": 2,
     "metadata": {},
     "output_type": "execute_result"
    }
   ],
   "source": [
    "df =  pd.read_csv('data/data.csv')\n",
    "df.head()"
   ]
  },
  {
   "cell_type": "code",
   "execution_count": 3,
   "id": "continent-chemical",
   "metadata": {},
   "outputs": [
    {
     "data": {
      "text/plain": [
       "(array(['MIT', 'NUC'], dtype=object), array([244, 429]))"
      ]
     },
     "execution_count": 3,
     "metadata": {},
     "output_type": "execute_result"
    }
   ],
   "source": [
    "np.unique(df.Label, return_counts=True)"
   ]
  },
  {
   "cell_type": "markdown",
   "id": "copyrighted-attack",
   "metadata": {},
   "source": [
    "### Load data"
   ]
  },
  {
   "cell_type": "code",
   "execution_count": 4,
   "id": "personalized-driver",
   "metadata": {},
   "outputs": [
    {
     "name": "stdout",
     "output_type": "stream",
     "text": [
      "(538, 8)\n",
      "(538,)\n",
      "(135, 8)\n",
      "(135,)\n"
     ]
    }
   ],
   "source": [
    "# code moved into custom Python module dh.helper\n",
    "# read data\n",
    "df = pd.read_csv('data/data.csv')\n",
    "\n",
    "# filter out samples which are not in filter_class\n",
    "filter_class = ['MIT', 'NUC']\n",
    "mask = df.Label == 0\n",
    "for x in filter_class:\n",
    "    mask = mask | (df.Label == x)\n",
    "df = df[mask]\n",
    "\n",
    "# extract DataFrame features\n",
    "X = df.iloc[:, :8].to_numpy()\n",
    "\n",
    "# extract DataFrame labels and encode labels\n",
    "y = df.Label.astype('category').cat.codes.to_numpy()\n",
    "\n",
    "# split data into training and test sets\n",
    "X_train, X_test, y_train, y_test = train_test_split(X, y, test_size=0.2, random_state=seed)\n",
    "\n",
    "print(X_train.shape)\n",
    "print(y_train.shape)\n",
    "print(X_test.shape)\n",
    "print(y_test.shape)"
   ]
  },
  {
   "cell_type": "markdown",
   "id": "requested-devil",
   "metadata": {},
   "source": [
    "### Construct hierarchy"
   ]
  },
  {
   "cell_type": "code",
   "execution_count": 5,
   "id": "defensive-mayor",
   "metadata": {},
   "outputs": [
    {
     "data": {
      "text/plain": [
       "[array([[0, 3],\n",
       "        [1, 2],\n",
       "        [4, 5]]),\n",
       " array([1., 1., 1., 1., 2., 2., 4.]),\n",
       " {6: 0, 0: 4, 3: 4, 1: 5, 2: 5, 4: 6, 5: 6}]"
      ]
     },
     "execution_count": 5,
     "metadata": {},
     "output_type": "execute_result"
    }
   ],
   "source": [
    "# code moved into custom Python module dh.helper\n",
    "# toy example\n",
    "T = helper.generate_T(X_train[:4])\n",
    "T"
   ]
  },
  {
   "cell_type": "code",
   "execution_count": 6,
   "id": "corporate-compilation",
   "metadata": {},
   "outputs": [],
   "source": [
    "# # dendrogram to visualize clustering\n",
    "# Z = linkage(X_train, method='ward')\n",
    "# dn = dendrogram(Z)"
   ]
  },
  {
   "cell_type": "markdown",
   "id": "fuzzy-cycling",
   "metadata": {},
   "source": [
    "# Part 2.0.1 Supervised classification methods.\n",
    "**We provide several classifiers that can be used. Choose your favourite one. The classifier is going to be used in 2.2, the choose of classifier won't influence your grade.**\n",
    "\n",
    "**TODO:**\n",
    "- **Choose and initialize a classifier**\n",
    "\n",
    "**Note: To use the Neural Network classifier, you need to install [pytorch](https://pytorch.org/).**"
   ]
  },
  {
   "cell_type": "markdown",
   "id": "norwegian-crime",
   "metadata": {},
   "source": [
    "### Comparison of options"
   ]
  },
  {
   "cell_type": "code",
   "execution_count": 7,
   "id": "macro-kansas",
   "metadata": {},
   "outputs": [],
   "source": [
    "# # code move into custom Python module dh.helper\n",
    "# # options\n",
    "# lr = helper.get_classifier('Logistic Regression').fit(X_train,y_train)\n",
    "# rf = helper.get_classifier('Random Forest', seed).fit(X_train,y_train)\n",
    "# gbdt = helper.get_classifier('Gradient Boosting Decision Tree', seed).fit(X_train,y_train)\n",
    "# nn = helper.get_classifier('Neural Net', X_train,y_train, seed).fit(X_train,y_train)\n",
    "\n",
    "\n",
    "# # Accuracy of 4 classifiers.\n",
    "# print('Accuracy of logistic regression: \\t\\t{:.3f}'.format(lr.score(X_test,y_test)))\n",
    "# print('Accuracy of random forest: \\t\\t\\t{:.3f}'.format(rf.score(X_test,y_test)))\n",
    "# print('Accuracy of Gradient Boosting Decision Tree: \\t{:.3f}'.format(gbdt.score(X_test,y_test)))\n",
    "# print('Accuracy of Neural Network: \\t\\t\\t{:.3f}'.format(nn.score(X_test,y_test)))"
   ]
  },
  {
   "cell_type": "markdown",
   "id": "elect-imperial",
   "metadata": {},
   "source": [
    "### Choose and initialize your classifier"
   ]
  },
  {
   "cell_type": "code",
   "execution_count": 8,
   "id": "norman-director",
   "metadata": {},
   "outputs": [],
   "source": [
    "classifier = helper.get_classifier('Logistic Regression')"
   ]
  },
  {
   "cell_type": "markdown",
   "id": "balanced-simon",
   "metadata": {},
   "source": [
    "## Part 2.1 Implement DH algorithm (Hierarchical Sampling for Active Learning). (30 points)\n",
    "\n",
    "**TODO:**\n",
    "- **Please complete the functions to implement the DH algorithm and run the active learning algorithm on the training dataset.**\n",
    "- **The utils functions has been implemented and attached in the homework folder, including `update_empirical.py`, `best_pruning_and_labeling.py`, `assign_labels.py`, and `get_leaves.py`. Please read them and finish the following functions to implement the DH algorithm.**"
   ]
  },
  {
   "cell_type": "code",
   "execution_count": 9,
   "id": "packed-ownership",
   "metadata": {},
   "outputs": [],
   "source": [
    "# implemented in custom Python package dh"
   ]
  },
  {
   "cell_type": "markdown",
   "id": "owned-suggestion",
   "metadata": {},
   "source": [
    "## Part 2.2 Run the sample code (10 points)\n",
    "**TODO:**\n",
    "- **Run the following sample code and compare the two figures.**\n",
    "- **Answer the following questions:**\n",
    "    - **How fast does it converge?**\n",
    "    - **How does error change as we apply more iterations?**\n",
    "    - **Which selection strategy is more accurate?**"
   ]
  },
  {
   "cell_type": "code",
   "execution_count": 10,
   "id": "fewer-virtue",
   "metadata": {},
   "outputs": [],
   "source": [
    "# ?? why make a copy of classifier when only one can be used in the function?\n",
    "def call_DH(part, clf, budget, X_train, y_train, X_test, y_test):\n",
    "    \"\"\"\n",
    "    Main function to run all your code once complete.  After you complete\n",
    "   select_case_1() and select_case_2(), this will run the DH algorithm for each\n",
    "   dataset and generate the plots you will submit within your write-up.\n",
    "\n",
    "    :param part: which part of the homework to run\n",
    "    :param clf: The classifier to be trained on the dataset.\n",
    "    :param budget: The number of times that one can query a label from the oracle.\n",
    "    :return:\n",
    "    \"\"\"\n",
    "    num_trials = 5\n",
    "    batch_size = 10\n",
    "    clf2 = copy.deepcopy(clf)  # make a copy of the classifier so a comparison can be made\n",
    "    axs = plt.subplot()\n",
    "\n",
    "    # initialize components\n",
    "    T = helper.generate_T(X_train)\n",
    "    loss = np.zeros(budget)  # loss for each iteration\n",
    "    \n",
    "    # choose action depending on part\n",
    "    if part.lower() == \"b\":\n",
    "\n",
    "        print(\"Running part B...\")\n",
    "\n",
    "        # run trials\n",
    "        for i in range(num_trials):\n",
    "            print(\"Currently on iteration {}...\".format(i))\n",
    "            L, error = dh.select_case_1(X_train, y_train, T, budget, batch_size)\n",
    "            loss += error\n",
    "        loss /= num_trials\n",
    "\n",
    "\n",
    "        # train the classifier clf on the predicted label.\n",
    "        clf.fit(X_train, L[:len(X_train)])\n",
    "\n",
    "        # plot\n",
    "        score = clf.score(X_test, y_test)\n",
    "        print('Accuracy of classifier trained on random sampling dataset: \\t{:.3f}'.format(score))\n",
    "        axs.plot(np.arange(budget), loss, label=\"Random sampling\")\n",
    "\n",
    "    elif part.lower() == \"c\":\n",
    "\n",
    "        print(\"Running part C...\")\n",
    "\n",
    "        # run trials\n",
    "        for i in range(num_trials):\n",
    "            print(\"Currently on iteration {}...\".format(i))\n",
    "            L, error = dh.select_case_2(X_train, y_train, T, budget, batch_size)\n",
    "            loss += error\n",
    "        loss /= num_trials\n",
    "\n",
    "        # train the classifier clf2 on the predicted label\n",
    "        clf2.fit(X_train, L[:len(X_train)])\n",
    "\n",
    "        score = clf2.score(X_test, y_test)\n",
    "        print('Accuracy of classifier trained on active learning dataset: \\t{:.3f}'.format(score))\n",
    "        axs.plot(np.arange(budget), loss, label=\"Active learning\")\n",
    "\n",
    "    else:\n",
    "        print(\"Incorrect part argument. Either 'b', 'c', 'd', or 'e' expected:\", part)\n",
    "\n",
    "#     axs.set_ylim([0, 0.5])\n",
    "    axs.set_xlabel(\"Number of query samples\")\n",
    "    axs.set_ylabel(\"Error rate\")\n",
    "    plt.legend()\n",
    "#     plt.savefig(\"img/q2_2\" + part.lower() + \".png\")\n",
    "    print()\n",
    "    "
   ]
  },
  {
   "cell_type": "code",
   "execution_count": 11,
   "id": "painful-formation",
   "metadata": {},
   "outputs": [
    {
     "name": "stdout",
     "output_type": "stream",
     "text": [
      "Running part B...\n",
      "Currently on iteration 0...\n",
      "[0. 0. 0. 0. 0.]\n",
      "[0. 1. 1. 0. 1.]\n",
      "[1. 0. 1. 1. 0.]\n",
      "[1. 0. 1. 1. 0.]\n",
      "[0. 0. 0. 0. 0.]\n",
      "Currently on iteration 1...\n",
      "[1. 1. 1. 1. 1.]\n",
      "[1. 0. 1. 1. 0.]\n",
      "[1. 0. 1. 1. 0.]\n",
      "[1. 0. 1. 1. 0.]\n",
      "[1. 1. 1. 1. 1.]\n",
      "Currently on iteration 2...\n",
      "[1. 1. 1. 1. 1.]\n",
      "[1. 0. 1. 1. 1.]\n",
      "[0. 1. 1. 0. 1.]\n",
      "[1. 0. 1. 1. 0.]\n",
      "[1. 0. 1. 1. 0.]\n",
      "Currently on iteration 3...\n",
      "[1. 0. 0. 1. 0.]\n",
      "[1. 0. 1. 1. 0.]\n",
      "[1. 0. 1. 1. 0.]\n",
      "[1. 0. 0. 1. 0.]\n",
      "[0. 0. 0. 0. 0.]\n",
      "Currently on iteration 4...\n",
      "[0. 0. 0. 0. 0.]\n",
      "[0. 0. 0. 0. 0.]\n",
      "[1. 0. 1. 1. 0.]\n",
      "[0. 0. 0. 0. 0.]\n",
      "[0. 0. 0. 0. 0.]\n"
     ]
    },
    {
     "ename": "ValueError",
     "evalue": "This solver needs samples of at least 2 classes in the data, but the data contains only one class: 0.0",
     "output_type": "error",
     "traceback": [
      "\u001b[0;31m---------------------------------------------------------------------------\u001b[0m",
      "\u001b[0;31mValueError\u001b[0m                                Traceback (most recent call last)",
      "\u001b[0;32m<timed exec>\u001b[0m in \u001b[0;36m<module>\u001b[0;34m\u001b[0m\n",
      "\u001b[0;32m<ipython-input-10-15666d47aa0a>\u001b[0m in \u001b[0;36mcall_DH\u001b[0;34m(part, clf, budget, X_train, y_train, X_test, y_test)\u001b[0m\n\u001b[1;32m     34\u001b[0m \u001b[0;34m\u001b[0m\u001b[0m\n\u001b[1;32m     35\u001b[0m         \u001b[0;31m# train the classifier clf on the predicted label.\u001b[0m\u001b[0;34m\u001b[0m\u001b[0;34m\u001b[0m\u001b[0;34m\u001b[0m\u001b[0m\n\u001b[0;32m---> 36\u001b[0;31m         \u001b[0mclf\u001b[0m\u001b[0;34m.\u001b[0m\u001b[0mfit\u001b[0m\u001b[0;34m(\u001b[0m\u001b[0mX_train\u001b[0m\u001b[0;34m,\u001b[0m \u001b[0mL\u001b[0m\u001b[0;34m[\u001b[0m\u001b[0;34m:\u001b[0m\u001b[0mlen\u001b[0m\u001b[0;34m(\u001b[0m\u001b[0mX_train\u001b[0m\u001b[0;34m)\u001b[0m\u001b[0;34m]\u001b[0m\u001b[0;34m)\u001b[0m\u001b[0;34m\u001b[0m\u001b[0;34m\u001b[0m\u001b[0m\n\u001b[0m\u001b[1;32m     37\u001b[0m \u001b[0;34m\u001b[0m\u001b[0m\n\u001b[1;32m     38\u001b[0m         \u001b[0;31m# plot\u001b[0m\u001b[0;34m\u001b[0m\u001b[0;34m\u001b[0m\u001b[0;34m\u001b[0m\u001b[0m\n",
      "\u001b[0;32m~/opt/anaconda3/envs/cmu/lib/python3.6/site-packages/sklearn/linear_model/_logistic.py\u001b[0m in \u001b[0;36mfit\u001b[0;34m(self, X, y, sample_weight)\u001b[0m\n\u001b[1;32m   1374\u001b[0m             raise ValueError(\"This solver needs samples of at least 2 classes\"\n\u001b[1;32m   1375\u001b[0m                              \u001b[0;34m\" in the data, but the data contains only one\"\u001b[0m\u001b[0;34m\u001b[0m\u001b[0;34m\u001b[0m\u001b[0m\n\u001b[0;32m-> 1376\u001b[0;31m                              \" class: %r\" % classes_[0])\n\u001b[0m\u001b[1;32m   1377\u001b[0m \u001b[0;34m\u001b[0m\u001b[0m\n\u001b[1;32m   1378\u001b[0m         \u001b[0;32mif\u001b[0m \u001b[0mlen\u001b[0m\u001b[0;34m(\u001b[0m\u001b[0mself\u001b[0m\u001b[0;34m.\u001b[0m\u001b[0mclasses_\u001b[0m\u001b[0;34m)\u001b[0m \u001b[0;34m==\u001b[0m \u001b[0;36m2\u001b[0m\u001b[0;34m:\u001b[0m\u001b[0;34m\u001b[0m\u001b[0;34m\u001b[0m\u001b[0m\n",
      "\u001b[0;31mValueError\u001b[0m: This solver needs samples of at least 2 classes in the data, but the data contains only one class: 0.0"
     ]
    },
    {
     "data": {
      "image/png": "[encoded data removed]",
      "text/plain": [
       "<Figure size 432x288 with 1 Axes>"
      ]
     },
     "metadata": {
      "needs_background": "light"
     },
     "output_type": "display_data"
    }
   ],
   "source": [
    "%%time\n",
    "\n",
    "# run active learning\n",
    "BUDGET = 5\n",
    "for part in \"b\":\n",
    "    call_DH(part,classifier,BUDGET,X_train, y_train, X_test, y_test)\n"
   ]
  },
  {
   "cell_type": "markdown",
   "id": "continuous-record",
   "metadata": {},
   "source": [
    "## Part 2.3 Questions (10 points):\n",
    "**Answer the following questions.**\n",
    "### What is a \"admissible pair\" according to the paper (5 points)?\n",
    "### Please explain the sampling bias that is dealt with in the DH algorithm and why it would be a problem if we just query the unlabeled point which is closest to the decision boundary (5 points)?"
   ]
  }
 ],
 "metadata": {
  "kernelspec": {
   "display_name": "Python 3",
   "language": "python",
   "name": "python3"
  },
  "language_info": {
   "codemirror_mode": {
    "name": "ipython",
    "version": 3
   },
   "file_extension": ".py",
   "mimetype": "text/x-python",
   "name": "python",
   "nbconvert_exporter": "python",
   "pygments_lexer": "ipython3",
   "version": "3.6.12"
  }
 },
 "nbformat": 4,
 "nbformat_minor": 5
}
