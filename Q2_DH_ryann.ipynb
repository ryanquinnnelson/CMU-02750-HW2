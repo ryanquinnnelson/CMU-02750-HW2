{
 "cells": [
  {
   "cell_type": "markdown",
   "id": "stock-tutorial",
   "metadata": {},
   "source": [
    "# Question 2: DH algorithm (50 points)\n",
    "**In this question we are going to implement the DH algorithm according to the paper https://icml.cc/Conferences/2008/papers/324.pdf and try to predict protein localization sites in Eukaryotic cells.**"
   ]
  },
  {
   "cell_type": "markdown",
   "id": "limited-arizona",
   "metadata": {},
   "source": [
    "### Imports"
   ]
  },
  {
   "cell_type": "code",
   "execution_count": 1,
   "id": "normal-removal",
   "metadata": {},
   "outputs": [],
   "source": [
    "import copy\n",
    "import warnings\n",
    "import numpy as np \n",
    "import pandas as pd\n",
    "import matplotlib.pyplot as plt\n",
    "from numpy.random import choice\n",
    "from sklearn.datasets import make_blobs\n",
    "import torch\n",
    "from torch.utils.data import Dataset, DataLoader, TensorDataset\n",
    "from torch import optim\n",
    "\n",
    "\n",
    "\n",
    "# provided custom modules\n",
    "from provided.update_empirical import update_empirical\n",
    "from provided.best_pruning_and_labeling import best_pruning_and_labeling\n",
    "from provided.assign_labels import assign_labels\n",
    "from provided.get_leaves import get_leaves\n",
    "import packages.dh.helper as helper\n",
    "\n",
    "# setup\n",
    "seed = 2021\n",
    "warnings. filterwarnings(\"ignore\")"
   ]
  },
  {
   "cell_type": "markdown",
   "id": "formed-female",
   "metadata": {},
   "source": [
    "## Part 2.0 Data loading and hierarchical clustering\n",
    "**The DH algorithm is based on hierarchical clustering of the dataset. We will use the DH algorithm on this classification problem: [Protein Localization Prediction](https://archive.ics.uci.edu/ml/datasets/Yeast).**\n",
    "\n",
    "**The first step is to load the dataset and conduct a hierarchical clustring using the `scipy` package. This part has been implemented, read through the code to make sure you understand what is being done.**\n",
    "\n",
    "**NOTES:**\n",
    "- **X_train: data matrix 1200x8**\n",
    "- **Y_train: true labels 1200x1**\n",
    "- **X_test: data matrix 284x8**\n",
    "- **Y_test: true labels 284x1**\n",
    "\n",
    "**TIPS:**\n",
    "- **Check out this [link](https://docs.scipy.org/doc/scipy/reference/generated/scipy.cluster.hierarchy.linkage.html) for details about hierarchical clustering.**\n",
    "- **If you are unfamiliar with hierarchical clustering using scipy, [this](https://joernhees.de/blog/2015/08/26/scipy-hierarchical-clustering-and-dendrogram-tutorial/ ) is another helpful resource. (We won't use dendrograms here, but he gives a nice explanation of how to interpret the linkage matrix).**\n",
    "               "
   ]
  },
  {
   "cell_type": "markdown",
   "id": "nervous-tokyo",
   "metadata": {},
   "source": [
    "### Explore data"
   ]
  },
  {
   "cell_type": "code",
   "execution_count": 2,
   "id": "trying-harvard",
   "metadata": {},
   "outputs": [
    {
     "data": {
      "text/html": [
       "<div>\n",
       "<style scoped>\n",
       "    .dataframe tbody tr th:only-of-type {\n",
       "        vertical-align: middle;\n",
       "    }\n",
       "\n",
       "    .dataframe tbody tr th {\n",
       "        vertical-align: top;\n",
       "    }\n",
       "\n",
       "    .dataframe thead th {\n",
       "        text-align: right;\n",
       "    }\n",
       "</style>\n",
       "<table border=\"1\" class=\"dataframe\">\n",
       "  <thead>\n",
       "    <tr style=\"text-align: right;\">\n",
       "      <th></th>\n",
       "      <th>X1</th>\n",
       "      <th>X2</th>\n",
       "      <th>X3</th>\n",
       "      <th>X4</th>\n",
       "      <th>X5</th>\n",
       "      <th>X6</th>\n",
       "      <th>X7</th>\n",
       "      <th>X8</th>\n",
       "      <th>Label</th>\n",
       "    </tr>\n",
       "  </thead>\n",
       "  <tbody>\n",
       "    <tr>\n",
       "      <th>0</th>\n",
       "      <td>0.58</td>\n",
       "      <td>0.61</td>\n",
       "      <td>0.47</td>\n",
       "      <td>0.13</td>\n",
       "      <td>0.5</td>\n",
       "      <td>0.0</td>\n",
       "      <td>0.48</td>\n",
       "      <td>0.22</td>\n",
       "      <td>MIT</td>\n",
       "    </tr>\n",
       "    <tr>\n",
       "      <th>1</th>\n",
       "      <td>0.43</td>\n",
       "      <td>0.67</td>\n",
       "      <td>0.48</td>\n",
       "      <td>0.27</td>\n",
       "      <td>0.5</td>\n",
       "      <td>0.0</td>\n",
       "      <td>0.53</td>\n",
       "      <td>0.22</td>\n",
       "      <td>MIT</td>\n",
       "    </tr>\n",
       "    <tr>\n",
       "      <th>2</th>\n",
       "      <td>0.64</td>\n",
       "      <td>0.62</td>\n",
       "      <td>0.49</td>\n",
       "      <td>0.15</td>\n",
       "      <td>0.5</td>\n",
       "      <td>0.0</td>\n",
       "      <td>0.53</td>\n",
       "      <td>0.22</td>\n",
       "      <td>MIT</td>\n",
       "    </tr>\n",
       "    <tr>\n",
       "      <th>3</th>\n",
       "      <td>0.58</td>\n",
       "      <td>0.44</td>\n",
       "      <td>0.57</td>\n",
       "      <td>0.13</td>\n",
       "      <td>0.5</td>\n",
       "      <td>0.0</td>\n",
       "      <td>0.54</td>\n",
       "      <td>0.22</td>\n",
       "      <td>NUC</td>\n",
       "    </tr>\n",
       "    <tr>\n",
       "      <th>4</th>\n",
       "      <td>0.42</td>\n",
       "      <td>0.44</td>\n",
       "      <td>0.48</td>\n",
       "      <td>0.54</td>\n",
       "      <td>0.5</td>\n",
       "      <td>0.0</td>\n",
       "      <td>0.48</td>\n",
       "      <td>0.22</td>\n",
       "      <td>MIT</td>\n",
       "    </tr>\n",
       "  </tbody>\n",
       "</table>\n",
       "</div>"
      ],
      "text/plain": [
       "     X1    X2    X3    X4   X5   X6    X7    X8 Label\n",
       "0  0.58  0.61  0.47  0.13  0.5  0.0  0.48  0.22   MIT\n",
       "1  0.43  0.67  0.48  0.27  0.5  0.0  0.53  0.22   MIT\n",
       "2  0.64  0.62  0.49  0.15  0.5  0.0  0.53  0.22   MIT\n",
       "3  0.58  0.44  0.57  0.13  0.5  0.0  0.54  0.22   NUC\n",
       "4  0.42  0.44  0.48  0.54  0.5  0.0  0.48  0.22   MIT"
      ]
     },
     "execution_count": 2,
     "metadata": {},
     "output_type": "execute_result"
    }
   ],
   "source": [
    "df =  pd.read_csv('data/data.csv')\n",
    "df.head()"
   ]
  },
  {
   "cell_type": "code",
   "execution_count": 3,
   "id": "together-weekend",
   "metadata": {},
   "outputs": [
    {
     "data": {
      "text/plain": [
       "(array(['MIT', 'NUC'], dtype=object), array([244, 429]))"
      ]
     },
     "execution_count": 3,
     "metadata": {},
     "output_type": "execute_result"
    }
   ],
   "source": [
    "np.unique(df.Label, return_counts=True)"
   ]
  },
  {
   "cell_type": "markdown",
   "id": "swiss-chicago",
   "metadata": {},
   "source": [
    "### Load data"
   ]
  },
  {
   "cell_type": "code",
   "execution_count": 4,
   "id": "designing-fundamentals",
   "metadata": {},
   "outputs": [
    {
     "name": "stdout",
     "output_type": "stream",
     "text": [
      "(538, 8)\n",
      "(538,)\n",
      "(135, 8)\n",
      "(135,)\n"
     ]
    }
   ],
   "source": [
    "f = 'data/data.csv'\n",
    "filter_class = ['MIT', 'NUC']\n",
    "X_train, y_train, X_test, y_test, T = helper.load_data(f, seed, filter_class)\n",
    "\n",
    "print(X_train.shape)\n",
    "print(y_train.shape)\n",
    "print(X_test.shape)\n",
    "print(y_test.shape)"
   ]
  },
  {
   "cell_type": "markdown",
   "id": "joint-picnic",
   "metadata": {},
   "source": [
    "# Part 2.0.1 Supervised classification methods.\n",
    "**We provide several classifiers that can be used. Choose your favourite one. The classifier is going to be used in 2.2, the choose of classifier won't influence your grade.**\n",
    "\n",
    "**TODO:**\n",
    "- **Choose and initialize a classifier**\n",
    "\n",
    "**Note: To use the Neural Network classifier, you need to install [pytorch](https://pytorch.org/).**"
   ]
  },
  {
   "cell_type": "markdown",
   "id": "colored-budget",
   "metadata": {},
   "source": [
    "### Comparison of options"
   ]
  },
  {
   "cell_type": "code",
   "execution_count": 5,
   "id": "alive-assault",
   "metadata": {},
   "outputs": [
    {
     "name": "stdout",
     "output_type": "stream",
     "text": [
      "Accuracy of logistic regression: \t\t0.874\n",
      "Accuracy of random forest: \t\t\t0.874\n",
      "Accuracy of Gradient Boosting Decision Tree: \t0.867\n",
      "Accuracy of Neural Network: \t\t\t0.889\n"
     ]
    }
   ],
   "source": [
    "# options\n",
    "lr = helper.get_classifier('Logistic Regression').fit(X_train,y_train)\n",
    "rf = helper.get_classifier('Random Forest', seed).fit(X_train,y_train)\n",
    "gbdt = helper.get_classifier('Gradient Boosting Decision Tree', seed).fit(X_train,y_train)\n",
    "nn = helper.get_classifier('Neural Net', X_train,y_train, seed).fit(X_train,y_train)\n",
    "\n",
    "\n",
    "# Accuracy of 4 classifiers.\n",
    "print('Accuracy of logistic regression: \\t\\t{:.3f}'.format(lr.score(X_test,y_test)))\n",
    "print('Accuracy of random forest: \\t\\t\\t{:.3f}'.format(rf.score(X_test,y_test)))\n",
    "print('Accuracy of Gradient Boosting Decision Tree: \\t{:.3f}'.format(gbdt.score(X_test,y_test)))\n",
    "print('Accuracy of Neural Network: \\t\\t\\t{:.3f}'.format(nn.score(X_test,y_test)))"
   ]
  },
  {
   "cell_type": "markdown",
   "id": "signal-syracuse",
   "metadata": {},
   "source": [
    "### Choose and initialize your classifier\n",
    "Uncomment one line to choose your classifier."
   ]
  },
  {
   "cell_type": "code",
   "execution_count": null,
   "id": "attractive-lunch",
   "metadata": {},
   "outputs": [],
   "source": [
    "# ?? need to fit too\n",
    "classifier = LogisticRegression()\n",
    "\n",
    "#classifier = RandomForestClassifier(n_estimators = N_estimator_rf,max_depth = MAX_depth_rf, random_state = seed)\n",
    "\n",
    "#classifier = GradientBoostingClassifier(n_estimators = N_estimator_gbdt,\n",
    "#                                 learning_rate = 0.1,\n",
    "#                                 max_depth = gbdt_max_depth,\n",
    "#                                 random_state = seed)\n",
    "\n",
    "#classifier = NNClassifier(feature_n = X_train.shape[1],class_n = len(np.unique(y_train)))\n"
   ]
  },
  {
   "cell_type": "markdown",
   "id": "scheduled-equity",
   "metadata": {},
   "source": [
    "## Part 2.1 Implement DH algorithm (Hierarchical Sampling for Active Learning). (30 points)\n",
    "\n",
    "**TODO:**\n",
    "- **Please complete the functions to implement the DH algorithm and run the active learning algorithm on the training dataset.**\n",
    "- **The utils functions has been implemented and attached in the homework folder, including `update_empirical.py`, `best_pruning_and_labeling.py`, `assign_labels.py`, and `get_leaves.py`. Please read them and finish the following functions to implement the DH algorithm.**"
   ]
  },
  {
   "cell_type": "code",
   "execution_count": null,
   "id": "independent-conducting",
   "metadata": {},
   "outputs": [],
   "source": []
  },
  {
   "cell_type": "code",
   "execution_count": null,
   "id": "adapted-plumbing",
   "metadata": {},
   "outputs": [],
   "source": [
    "def compute_error(L,labels):\n",
    "    \"\"\"Compute the error\n",
    "\n",
    "    :param L: labeling of leaf nodes\n",
    "    :param labels: true labels of each node\n",
    "\n",
    "    :returns error: error of predictions\"\"\"\n",
    "\n",
    "    wrong = 0\n",
    "    wrong = (L[:len(labels)]!=labels).sum()\n",
    "    error = wrong/len(labels)\n",
    "    return error\n",
    "\n",
    "def select_case_1(data,labels,T,budget,batch_size):\n",
    "    \"\"\"DH algorithm where we choose P proportional to the size of subtree rooted at each node\n",
    "\n",
    "    :param data: Data matrix 1200x8\n",
    "    :param labels: true labels 1200x1\n",
    "    :param T: 3 element tree\n",
    "        T[0] = linkage matrix from hierarchical clustering.  See https://docs.scipy.org/doc/scipy/reference/generated/scipy.cluster.hierarchy.linkage.html\n",
    "               for details. If you are unfamiliar with hierarchical clustering using scipy, the following is another helpful resource (We won't use dendrograms\n",
    "               here, but he gives a nice explanation of how to interpret the linkage matrix):\n",
    "               https://joernhees.de/blog/2015/08/26/scipy-hierarchical-clustering-and-dendrogram-tutorial/ \n",
    "\n",
    "        T[1] = An array denoting the size of each subtree rooted at node i, where i indexes the array.  \n",
    "               ie. The number of all children + grandchildren + ... + the node itself\n",
    "\n",
    "        T[2] = dict where keys are nodes and values are the node's parent\n",
    "    :param budget: Number of iterations to make \n",
    "    :param batch_size: Number of queries per iteration\"\"\"\n",
    "\n",
    "    n_nodes = len(T[1]) #total nodes in T\n",
    "    n_samples = len(data) #total samples in data\n",
    "    L = np.zeros(n_nodes) #majority label\n",
    "    p1 = np.zeros(n_nodes) #empirical label frequency\n",
    "    n = np.zeros(n_nodes) #number of points sampled from each node\n",
    "    error = []#np.zeros(n_samples) #error at each round\n",
    "    root = n_nodes-1 #corresponds to index of root\n",
    "    P = np.array([root])\n",
    "    L[root] = 1    \n",
    "    \n",
    "    for i in range(budget):\n",
    "        selected_P = []\n",
    "        for b in range(batch_size):\n",
    "\n",
    "            #TODO: select a node from P proportional to the size of subtree rooted at each node\n",
    "            raise(NotImplemetedError)\n",
    "            \n",
    "            ##TODO: pick a random leaf node from subtree Tv and query its label\n",
    "\n",
    "            #TODO: update empirical counts and probabilities for all nodes u on path from z to v\n",
    "\n",
    "        for p in selected_P:\n",
    "            #TODO: update admissible A and compute scores; find best pruning and labeling\n",
    "            raise(NotImplemetedError)\n",
    "            #TODO: update pruning P and labeling L\n",
    "\n",
    "        #TODO: temporarily assign labels to every leaf and compute error\n",
    "        L_temp = L.copy()\n",
    "        raise(NotImplemetedError)\n",
    "\n",
    "    for i in range(len(P)):\n",
    "        L = assign_labels(L,P[i],P[i],T,n_samples)\n",
    "    \n",
    "    return L, np.array(error)\n",
    "\n",
    "def select_case_2(data,labels,T,budget,batch_size):\n",
    "    \"\"\"DH algorithm where we choose P by biasing towards choosing nodes in areas where the observed labels are less pure\n",
    "\n",
    "    :param data: Data matrix 1200x8\n",
    "    :param labels: true labels 284x1\n",
    "    :param T: 3 element tree\n",
    "        T[0] = linkage matrix from hierarchical clustering.  See https://docs.scipy.org/doc/scipy/reference/generated/scipy.cluster.hierarchy.linkage.html\n",
    "               for details. If you are unfamiliar with hierarchical clustering using scipy, the following is another helpful resource (We won't use dendrograms\n",
    "               here, but he gives a nice explanation of how to interpret the linkage matrix):\n",
    "               https://joernhees.de/blog/2015/08/26/scipy-hierarchical-clustering-and-dendrogram-tutorial/ \n",
    "\n",
    "        T[1] = An array denoting the size of each subtree rooted at node i, where i indexes the array.  \n",
    "               ie. The number of all children + grandchildren + ... + the node itself\n",
    "\n",
    "        T[2] = dict where keys are nodes and values are the node's parent\n",
    "    :param budget: Number of iterations to make \n",
    "    :param batch_size: Number of queries per iteration\"\"\"\n",
    "\n",
    "    n_nodes = len(T[1]) #total nodes in T\n",
    "    n_samples = len(data) #total samples in data\n",
    "    L = np.zeros(n_nodes,dtype = int) #majority label\n",
    "    p1 = np.zeros(n_nodes) #empirical label frequency\n",
    "    n = np.zeros(n_nodes) #number of points sampled from each node\n",
    "    error = []#np.zeros(n_samples) #error at each round\n",
    "    root = n_nodes-1 #corresponds to index of root\n",
    "    P = np.array([root])\n",
    "    L[root] = 1    \n",
    "\n",
    "    for i in range(budget):\n",
    "        selected_P = []\n",
    "        for b in range(batch_size):\n",
    "            #TODO: select a node from P biasing towards choosing nodes in areas where the observed labels are less pure\n",
    "            raise(NotImplemetedError)\n",
    "            \n",
    "            #TODO: pick a random leaf node from subtree Tv and query its label\n",
    "\n",
    "            #TODO: update empirical counts and probabilities for all nodes u on path from z to v\n",
    "\n",
    "        for p in selected_P:\n",
    "            #TODO: update admissible A and compute scores; find best pruning and labeling\n",
    "            raise(NotImplemetedError)\n",
    "            #TODO: update pruning P and labeling L\n",
    "\n",
    "        #TODO: temporarily assign labels to every leaf and compute error\n",
    "        L_temp = L.copy()\n",
    "        raise(NotImplemetedError)\n",
    "        \n",
    "    for i in range(len(P)):\n",
    "        L = assign_labels(L,P[i],P[i],T,n_samples)\n",
    "        \n",
    "    return L, np.array(error)                \n"
   ]
  },
  {
   "cell_type": "markdown",
   "id": "norwegian-argument",
   "metadata": {},
   "source": [
    "## Part 2.2 Run the sample code (10 points)\n",
    "**TODO:**\n",
    "- **Run the following sample code and compare the two figures.**"
   ]
  },
  {
   "cell_type": "code",
   "execution_count": null,
   "id": "white-kernel",
   "metadata": {},
   "outputs": [],
   "source": [
    "def call_DH(part,clf,budget):\n",
    "    \"\"\"Main function to run all your code once complete.  After you complete\n",
    "       select_case_1() and select_case_2(), this will run the DH algo for each \n",
    "       dataset and generate the plots you will submit within your write-up.\n",
    "\n",
    "       :param part: which part of the homework to run\n",
    "       :param clf: The classifier used to predcit on the dataset.\n",
    "       :param budget: The number of times that one can query a label from the oracle.\n",
    "    \"\"\"\n",
    "    \n",
    "    part = part.lower()\n",
    "    num_trials = 5\n",
    "    batch_size = 10\n",
    "    clf2 = copy.deepcopy(clf)\n",
    "    axs = plt.subplot()\n",
    "    if part == \"b\":\n",
    "        print(\"Running part B\")\n",
    "        X_train, y_train, X_test, y_test, T = load_data()\n",
    "        l = np.zeros(budget)\n",
    "        for i in range(num_trials):\n",
    "            print(\"Currently on iteration {}\".format(i))\n",
    "            L, error = select_case_1(X_train,y_train,T,budget,batch_size)\n",
    "            l += error \n",
    "        l /= num_trials\n",
    "        \n",
    "        ## TODO: train the classifier clf on the predicted label.\n",
    "        #raise(NotImplementedError)\n",
    "        clf.fit(X_train,L[:len(X_train)])\n",
    "        \n",
    "        print('Accuracy of classifier trained on random sampling dataset: \\t{:.3f}'.format(clf.score(X_test,y_test)))\n",
    "        axs.plot(np.arange(budget),l,label = \"Random sampling\")\n",
    "\n",
    "    elif part == \"c\":\n",
    "        print(\"Running part C\")\n",
    "        X_train, y_train, X_test, y_test, T = load_data()\n",
    "        l = np.zeros(budget)\n",
    "        for i in range(num_trials):\n",
    "            print(\"Currently on iteration {}\".format(i))\n",
    "            L, error = select_case_2(X_train,y_train,T,budget,batch_size)\n",
    "            l += error \n",
    "        l /= num_trials\n",
    "        \n",
    "        ## TODO: train the classifier clf2 on the predicted label.\n",
    "        #raise(NotImplementedError)\n",
    "        clf2.fit(X_train,L[:len(X_train)])\n",
    "        \n",
    "        print('Accuracy of classifier trained on active learning dataset: \\t{:.3f}'.format(clf2.score(X_test,y_test)))\n",
    "        axs.plot(np.arange(budget),l,label = \"Active learning\")\n",
    "\n",
    "    else:\n",
    "        print(\"Incorrect part provided. Either 'b', 'c', 'd', or 'e' expected\")\n",
    "    axs.set_ylim([0,0.5])\n",
    "    axs.set_xlabel(\"Number of query samples\")\n",
    "    axs.set_ylabel(\"Error rate\")\n",
    "    plt.legend()\n",
    "    plt.savefig(\"q2_2.png\")\n",
    "BUDGET = 200 #You can change this number to a smaller one during testing.\n",
    "for part in \"bc\":\n",
    "    call_DH(part,classifier,BUDGET)\n"
   ]
  },
  {
   "cell_type": "markdown",
   "id": "transsexual-kitchen",
   "metadata": {},
   "source": [
    "## Part 2.3 Questions (10 points):\n",
    "**TODO:**\n",
    "- **Answer the following questions.**\n",
    "### What is a \"admissible pair\" according to the paper (5 points)?\n",
    "### Please explain the sampling bias that is dealt with in the DH algorithm and why it would be a problem if we just query the unlabeled point which is closest to the decision boundary (5 points)?"
   ]
  }
 ],
 "metadata": {
  "kernelspec": {
   "display_name": "Python 3",
   "language": "python",
   "name": "python3"
  },
  "language_info": {
   "codemirror_mode": {
    "name": "ipython",
    "version": 3
   },
   "file_extension": ".py",
   "mimetype": "text/x-python",
   "name": "python",
   "nbconvert_exporter": "python",
   "pygments_lexer": "ipython3",
   "version": "3.6.12"
  }
 },
 "nbformat": 4,
 "nbformat_minor": 5
}
