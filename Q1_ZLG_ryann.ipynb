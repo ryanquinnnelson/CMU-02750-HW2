{
 "cells": [
  {
   "cell_type": "markdown",
   "id": "commercial-packing",
   "metadata": {},
   "source": [
    "## Question 1. ZLG algorithm implementation (50 points)\n",
    "**You are to implement the ZLG algorithm for this problem.**\n",
    "- **We will use a subset of multiclass data where the label is a protein subcellular localization.**\n",
    "- **The 8 features are extracted from the protein sequence.**\n",
    "- **For this problem we are only using points with labels `MIT` or `NUC`.**\n",
    "- **A total of 892 data points have labels `MIT` (244) or `NUC` (429). We start with the labels of only the first 200 data points (set `Y_k`). The other 792 points are in `Y_u`.**"
   ]
  },
  {
   "cell_type": "markdown",
   "id": "motivated-arcade",
   "metadata": {},
   "source": [
    "**First, read the paper and answer the following questions.**\n",
    "#### 1. What is the idea behind the ZLG algorithm (5 points)?\n",
    "#### 2. What are the assumptions behind the ZLG algorithm (5 points)?\n",
    "#### 3. What are the pros and cons of the ZLG algorithm (5points)?"
   ]
  },
  {
   "cell_type": "markdown",
   "id": "aggressive-piece",
   "metadata": {},
   "source": [
    "### Imports"
   ]
  },
  {
   "cell_type": "code",
   "execution_count": 1,
   "id": "eight-kidney",
   "metadata": {},
   "outputs": [],
   "source": [
    "import numpy as np\n",
    "import pandas as pd \n",
    "import copy\n",
    "from scipy.spatial import distance_matrix\n",
    "from sklearn.preprocessing import LabelEncoder\n",
    "\n",
    "import packages.zlg.zlg as zlg"
   ]
  },
  {
   "cell_type": "markdown",
   "id": "regulation-passport",
   "metadata": {},
   "source": [
    "### Data Prep"
   ]
  },
  {
   "cell_type": "code",
   "execution_count": 2,
   "id": "settled-dutch",
   "metadata": {},
   "outputs": [
    {
     "name": "stdout",
     "output_type": "stream",
     "text": [
      "shape (673, 9)\n",
      "unique labels ['MIT' 'NUC']\n"
     ]
    },
    {
     "data": {
      "text/html": [
       "<div>\n",
       "<style scoped>\n",
       "    .dataframe tbody tr th:only-of-type {\n",
       "        vertical-align: middle;\n",
       "    }\n",
       "\n",
       "    .dataframe tbody tr th {\n",
       "        vertical-align: top;\n",
       "    }\n",
       "\n",
       "    .dataframe thead th {\n",
       "        text-align: right;\n",
       "    }\n",
       "</style>\n",
       "<table border=\"1\" class=\"dataframe\">\n",
       "  <thead>\n",
       "    <tr style=\"text-align: right;\">\n",
       "      <th></th>\n",
       "      <th>X1</th>\n",
       "      <th>X2</th>\n",
       "      <th>X3</th>\n",
       "      <th>X4</th>\n",
       "      <th>X5</th>\n",
       "      <th>X6</th>\n",
       "      <th>X7</th>\n",
       "      <th>X8</th>\n",
       "      <th>Label</th>\n",
       "    </tr>\n",
       "  </thead>\n",
       "  <tbody>\n",
       "    <tr>\n",
       "      <th>0</th>\n",
       "      <td>0.58</td>\n",
       "      <td>0.61</td>\n",
       "      <td>0.47</td>\n",
       "      <td>0.13</td>\n",
       "      <td>0.5</td>\n",
       "      <td>0.0</td>\n",
       "      <td>0.48</td>\n",
       "      <td>0.22</td>\n",
       "      <td>MIT</td>\n",
       "    </tr>\n",
       "    <tr>\n",
       "      <th>1</th>\n",
       "      <td>0.43</td>\n",
       "      <td>0.67</td>\n",
       "      <td>0.48</td>\n",
       "      <td>0.27</td>\n",
       "      <td>0.5</td>\n",
       "      <td>0.0</td>\n",
       "      <td>0.53</td>\n",
       "      <td>0.22</td>\n",
       "      <td>MIT</td>\n",
       "    </tr>\n",
       "    <tr>\n",
       "      <th>2</th>\n",
       "      <td>0.64</td>\n",
       "      <td>0.62</td>\n",
       "      <td>0.49</td>\n",
       "      <td>0.15</td>\n",
       "      <td>0.5</td>\n",
       "      <td>0.0</td>\n",
       "      <td>0.53</td>\n",
       "      <td>0.22</td>\n",
       "      <td>MIT</td>\n",
       "    </tr>\n",
       "    <tr>\n",
       "      <th>3</th>\n",
       "      <td>0.58</td>\n",
       "      <td>0.44</td>\n",
       "      <td>0.57</td>\n",
       "      <td>0.13</td>\n",
       "      <td>0.5</td>\n",
       "      <td>0.0</td>\n",
       "      <td>0.54</td>\n",
       "      <td>0.22</td>\n",
       "      <td>NUC</td>\n",
       "    </tr>\n",
       "    <tr>\n",
       "      <th>4</th>\n",
       "      <td>0.42</td>\n",
       "      <td>0.44</td>\n",
       "      <td>0.48</td>\n",
       "      <td>0.54</td>\n",
       "      <td>0.5</td>\n",
       "      <td>0.0</td>\n",
       "      <td>0.48</td>\n",
       "      <td>0.22</td>\n",
       "      <td>MIT</td>\n",
       "    </tr>\n",
       "  </tbody>\n",
       "</table>\n",
       "</div>"
      ],
      "text/plain": [
       "     X1    X2    X3    X4   X5   X6    X7    X8 Label\n",
       "0  0.58  0.61  0.47  0.13  0.5  0.0  0.48  0.22   MIT\n",
       "1  0.43  0.67  0.48  0.27  0.5  0.0  0.53  0.22   MIT\n",
       "2  0.64  0.62  0.49  0.15  0.5  0.0  0.53  0.22   MIT\n",
       "3  0.58  0.44  0.57  0.13  0.5  0.0  0.54  0.22   NUC\n",
       "4  0.42  0.44  0.48  0.54  0.5  0.0  0.48  0.22   MIT"
      ]
     },
     "execution_count": 2,
     "metadata": {},
     "output_type": "execute_result"
    }
   ],
   "source": [
    "data = pd.read_csv('data/data.csv')\n",
    "print('shape',data.shape)\n",
    "print('unique labels', data.Label.unique())\n",
    "data.head(5)"
   ]
  },
  {
   "cell_type": "code",
   "execution_count": 3,
   "id": "swiss-business",
   "metadata": {},
   "outputs": [
    {
     "name": "stdout",
     "output_type": "stream",
     "text": [
      "(673, 8)\n",
      "(673,)\n"
     ]
    }
   ],
   "source": [
    "# filter out records without desired labels\n",
    "data_MITNUC = data.loc[data['Label'].isin(['MIT','NUC'])].values\n",
    "\n",
    "# split data into features and target, encode target classes as 0 or 1\n",
    "X = data_MITNUC[:,:8]\n",
    "y = LabelEncoder().fit_transform(data_MITNUC[:,-1])\n",
    "\n",
    "print(X.shape)\n",
    "print(y.shape)"
   ]
  },
  {
   "cell_type": "code",
   "execution_count": 4,
   "id": "sticky-visibility",
   "metadata": {},
   "outputs": [
    {
     "name": "stdout",
     "output_type": "stream",
     "text": [
      "(200, 8)\n",
      "(200,)\n",
      "(473, 8)\n",
      "(473,)\n"
     ]
    }
   ],
   "source": [
    "# split data into first 200 records and remainder\n",
    "n_l = 200\n",
    "\n",
    "Xk = X[:n_l,:]\n",
    "Yk = y[:n_l]\n",
    "Xu = X[n_l:,:]\n",
    "Yu = y[n_l:]\n",
    "\n",
    "print(Xk.shape)\n",
    "print(Yk.shape)\n",
    "print(Xu.shape)\n",
    "print(Yu.shape)"
   ]
  },
  {
   "cell_type": "markdown",
   "id": "affected-uganda",
   "metadata": {},
   "source": [
    "# 1.1. Part 1 (5 points)\n",
    "**TODO:**\n",
    "- **Let's first construct the weight matrix W.**\n",
    "- **Use $t = 0$ and $\\sigma$ as the standard deviation of $X$.**\n",
    "- **Then calculate the $D$ matrix and the Laplacian matrix (Delta).**"
   ]
  },
  {
   "cell_type": "markdown",
   "id": "aggregate-termination",
   "metadata": {},
   "source": [
    "### Formulas\n",
    "Similarity is measured using the radial basis function (RBF):\n",
    "\n",
    "This paper:\n",
    "$$w_{ij}=\\exp{\\left( -\\frac{1}{\\sigma^2}\\sum_{d=1}^m (x_{id} - x_{jd})^2 \\right)}$$\n",
    "\n",
    "Another paper (https://www.aaai.org/Papers/ICML/2003/ICML03-118.pdf):\n",
    "\n",
    "$$w_{ij}=\\exp{\\left( -\\sum_{d=1}^m \\frac{(x_{id} - x_{jd})^2}{\\sigma^2_d} \\right)}$$\n",
    "\n",
    "\n",
    "\n",
    "\n",
    "\n",
    "\n",
    "\n",
    "\n",
    "\n",
    "\n",
    "\n",
    "\n",
    "where\n",
    "- $x_i \\in \\mathbb{R}^m$\n",
    "- $x_{id}$ is the $d$-th component  of instance $x_i$\n",
    "- $\\sigma_1, \\ldots ,\\sigma_m$ are length scale hyperparameters for each dimension\n",
    "\n",
    "\n",
    "Note: $\\sum_{d=1}^m \\left( x_{id} - x_{jd} \\right)^2$ is the squared Euclidean distance between $x_i$ and $x_j$"
   ]
  },
  {
   "cell_type": "markdown",
   "id": "broad-buying",
   "metadata": {},
   "source": [
    "I think I understand what you mean about flattening the matrix, but it doesn't make sense to me. Let me explain. \n",
    "\n",
    "\n",
    "Consider the inner expression:\n",
    "\n",
    "$$ \\frac{1}{\\sigma^2}\\sum_{d=1}^m (x_{id} - x_{jd})^2$$\n",
    "\n",
    "\n",
    "Suppose:\n",
    "\n",
    "$$X=\\begin{bmatrix}1 && 2 \\\\ 3 && 5\\end{bmatrix}$$\n",
    "\n",
    "where\n",
    "\n",
    "$$x_1=\\begin{bmatrix}1 && 2 \\end{bmatrix}$$\n",
    "\n",
    "$$x_2=\\begin{bmatrix}3 && 5 \\end{bmatrix}$$\n",
    "\n",
    "We can calculate the variance of each of the columns:\n",
    "\n",
    "$$v=\\begin{bmatrix}1 && 2.25 \\end{bmatrix}$$\n",
    "\n",
    "\n",
    "If we use `distance_matrix()`, referenced in the Notebook, the squared distance matrix of $X$ would be:\n",
    "\n",
    "$$X=\\begin{bmatrix}0 && 13 \\\\ 13 && 0\\end{bmatrix}$$\n",
    "\n",
    "If we now multiply the two terms together, we would get this as the inner result:\n",
    "\n",
    "$$\\frac{1}{v} \\cdot X = \\begin{bmatrix}0 && 5.78 \\\\ 5.78 && 0\\end{bmatrix}$$\n",
    "\n",
    "with the inner term 5.78 representing the result of the expression.\n",
    "\n",
    "However, consider the version of the RBF in this paper referenced by the authors (https://www.aaai.org/Papers/ICML/2003/ICML03-118.pdf):\n",
    "\n",
    "$$w_{ij}=\\exp{\\left( -\\sum_{d=1}^m \\frac{(x_{id} - x_{jd})^2}{\\sigma^2_d} \\right)}$$\n",
    "\n",
    "In this version, it clearly seems to show that we should be dividing each term by the variance of that term. I can't find a more efficient way to do it other than term by term. But if we do that, we get a different value.\n",
    "\n",
    "$$\\frac{(3-1)^2}{1}+\\frac{(5-2)^2}{2.25}=8$$\n",
    "\n",
    "\n",
    "$$8 \\ne 5.78$$\n",
    "\n",
    "\n",
    "To me, it clearly seems like these two approaches get different results. Am I looking at this the wrong way?\n",
    "\n"
   ]
  },
  {
   "cell_type": "code",
   "execution_count": 5,
   "id": "moderate-priest",
   "metadata": {},
   "outputs": [],
   "source": [
    "# ?? do we use all X or only 200 sample\n",
    "# laplacian_matrix() implemented in custom Python package zlg"
   ]
  },
  {
   "cell_type": "code",
   "execution_count": 6,
   "id": "international-blink",
   "metadata": {
    "scrolled": true
   },
   "outputs": [
    {
     "data": {
      "text/plain": [
       "(673, 673)"
      ]
     },
     "execution_count": 6,
     "metadata": {},
     "output_type": "execute_result"
    }
   ],
   "source": [
    "Delta = zlg.laplacian_matrix(X,t=0)\n",
    "Delta.shape"
   ]
  },
  {
   "cell_type": "markdown",
   "id": "rental-elite",
   "metadata": {},
   "source": [
    "# 1.2. Part 2 (5 points) \n",
    "**TODO:**\n",
    "- **Now complete the subroutine to compute the minimum-energy solution for the unlabeled instances. (Hint: Use the formula in page 38, Lecture 7.)** \n",
    "- **The function also outputs one submatrix that we will use to select points to query.**"
   ]
  },
  {
   "cell_type": "code",
   "execution_count": 7,
   "id": "ethical-collectible",
   "metadata": {},
   "outputs": [],
   "source": [
    "# minimum_energy_solution() implemented in custom Python package zlg"
   ]
  },
  {
   "cell_type": "code",
   "execution_count": 8,
   "id": "occasional-virtue",
   "metadata": {},
   "outputs": [
    {
     "name": "stdout",
     "output_type": "stream",
     "text": [
      "(473, 473)\n",
      "(473,)\n"
     ]
    }
   ],
   "source": [
    "# first 200 points are labeled\n",
    "labeled_1_2 = [i for i in range(200)]\n",
    "unlabeled_1_2 = [i for i in range(200,673)]\n",
    "\n",
    "fu,Delta_uu_inv = zlg.minimum_energy_solution(Delta,labeled_1_2,unlabeled_1_2,Yk)\n",
    "print(Delta_uu_inv.shape)\n",
    "print(fu.shape)"
   ]
  },
  {
   "cell_type": "markdown",
   "id": "disturbed-lodging",
   "metadata": {},
   "source": [
    "# 1.3. Part 3 (15 points) \n",
    "**TODO:**\n",
    "- **We would like to query the points that minimize the expected risk. To do so, we want to be able to calculate the expected estimated risk after querying any point $k$.**\n",
    "- **The variable `Rhat_fplus_xk` refers to $\\hat{R}(f^{+x_k})$.**\n",
    "- **`fu_xk0` is $f_u^{+(x_k,0)}$ and vice versa for `fu_xk1`.**"
   ]
  },
  {
   "cell_type": "markdown",
   "id": "novel-leader",
   "metadata": {},
   "source": [
    "I'm confused about the notation involved in calculating expected risk for ZLG. In the paper, we have the following equations:\n",
    "\n",
    "#### Expected risk:\n",
    "\n",
    "$$\\hat{R}\\left( f^{+(x_k,y_k)} \\right)=\\sum_{i=1}^n min\\left( f_i^{+(x_k,y_k)},1-f_i^{+(x_k,y_k)}\\right)$$\n",
    "\n",
    "#### Expected estimated risk:\n",
    "\n",
    "$$\\hat{R}\\left( f^{+x_k} \\right)=\n",
    "(1-f_k)\\hat{R}\\left( f^{+(x_k,0)} \\right)\n",
    "+   f_k\\hat{R}\\left( f^{+(x_k,1)} \\right)$$\n",
    "\n",
    "\n",
    "#### Conditional Distribution of all unlabeled nodes:\n",
    "\n",
    "$$f_u^{+(x_k,y_k)}=f_u+(y_k-f_k)\\frac{(\\Delta_{uu}^{-1})_{ \\cdot k}}{(\\Delta_{uu}^{-1})_{kk}}$$\n",
    "\n",
    "\n",
    "***\n",
    "\n",
    "I'm confused at the difference between $f_u$ and $f$ and $f_i$. The paper defines $f=\\begin{bmatrix}f_l \\\\ f_u\\end{bmatrix}$ but I don't understand how exactly this works through the equations above. My understanding is that $f_u$ is a vector. I calculated that $f_u^{+(x_k,0)}$ is a vector of the same dimension.  \n",
    "\n",
    "Is $f^{+(x_k,0)}$ the same as $f_u^{+(x_k,0)}$?\n",
    "\n",
    "***\n",
    "\n",
    "I'm also confused at how to calculate estimated risk.\n",
    "\n",
    "$$\\hat{R}\\left( f^{+(x_k,0)} \\right)=\\sum_{i=1}^n min\\left( f_i^{+(x_k,0)},1-f_i^{+(x_k,0)}\\right)$$\n",
    "\n",
    "What is the $n$ in this case? I thought we were dealing with $f_u$. What would $f_1, f_2, \\ldots, f_n$ be?\n",
    "\n",
    "***\n",
    "\n",
    "\n",
    "\n",
    "\n",
    "\n"
   ]
  },
  {
   "cell_type": "code",
   "execution_count": 9,
   "id": "recognized-primary",
   "metadata": {},
   "outputs": [],
   "source": [
    "# expected_estimated_risk() implemented in custom Python package zlg"
   ]
  },
  {
   "cell_type": "markdown",
   "id": "extensive-pendant",
   "metadata": {},
   "source": [
    "# 1.4. Part 4 (5 points) \n",
    "**TODO:**\n",
    "- **Compute the above expected estimated risk for all unlabeled points and select one to query.**"
   ]
  },
  {
   "cell_type": "code",
   "execution_count": 10,
   "id": "psychological-reaction",
   "metadata": {},
   "outputs": [],
   "source": [
    "# ?? what should plot look like?\n",
    "# zlg_query() implemented in custom Python package zlg"
   ]
  },
  {
   "cell_type": "markdown",
   "id": "innovative-assets",
   "metadata": {},
   "source": [
    "### Select 1 to Query"
   ]
  },
  {
   "cell_type": "code",
   "execution_count": 11,
   "id": "living-documentary",
   "metadata": {},
   "outputs": [
    {
     "name": "stdout",
     "output_type": "stream",
     "text": [
      "num_unlabeled 473\n",
      "(473,)\n",
      "(473, 473)\n"
     ]
    },
    {
     "data": {
      "text/plain": [
       "272"
      ]
     },
     "execution_count": 11,
     "metadata": {},
     "output_type": "execute_result"
    }
   ],
   "source": [
    "idx_1_4 = zlg.zlg_query(fu, Delta_uu_inv, n_l, num_samples=673)\n",
    "idx_1_4"
   ]
  },
  {
   "cell_type": "markdown",
   "id": "quantitative-tonight",
   "metadata": {},
   "source": [
    "# 1.5. Part 5\n",
    "**TODO:**\n",
    "- **Let's try query 100 points. Which points are queried?** \n",
    "- **Compare with random queries and make a plot.**"
   ]
  },
  {
   "cell_type": "markdown",
   "id": "unexpected-liberia",
   "metadata": {},
   "source": [
    "### ZLG Query"
   ]
  },
  {
   "cell_type": "code",
   "execution_count": 12,
   "id": "brazilian-programming",
   "metadata": {},
   "outputs": [
    {
     "name": "stdout",
     "output_type": "stream",
     "text": [
      "num_unlabeled 473\n",
      "(473,)\n",
      "(473, 473)\n",
      "idx 272\n",
      "num_unlabeled 472\n",
      "(472,)\n",
      "(472, 472)\n",
      "idx 273\n",
      "num_unlabeled 471\n",
      "(471,)\n",
      "(471, 471)\n",
      "idx 274\n",
      "CPU times: user 3.97 s, sys: 62.5 ms, total: 4.04 s\n",
      "Wall time: 2.78 s\n"
     ]
    }
   ],
   "source": [
    "%%time\n",
    "\n",
    "# copy data for use in this section\n",
    "Xk_zlg = copy.deepcopy(Xk)\n",
    "Yk_zlg = copy.deepcopy(Yk)\n",
    "Xu_zlg = copy.deepcopy(Xu)\n",
    "Yu_zlg = copy.deepcopy(Yu)\n",
    "\n",
    "labeled_zlg = [i for i in range(200)]\n",
    "unlabeled_zlg = [i for i in range(200,673)]\n",
    "\n",
    "# print(Yk_zlg.shape,Xk_zlg.shape, n_l, len(labeled_zlg) )\n",
    "# print(Yu_zlg.shape,Xu_zlg.shape, len(unlabeled_zlg) )\n",
    "# print()\n",
    "\n",
    "\n",
    "n_samples = X.shape[0]\n",
    "for count in range(3):\n",
    "    \n",
    "    # select unlabeled instance \n",
    "    query_idx = zlg.zlg_query(fu, Delta_uu_inv,n_l,n_samples)\n",
    "#     query_idx = count\n",
    "    print('idx',query_idx)\n",
    "#     print(labeled_zlg[0])\n",
    "#     print(labeled_zlg[-1])\n",
    "#     print(unlabeled_zlg[0])\n",
    "#     print(unlabeled_zlg[-1])\n",
    "    \n",
    "    # add instance to labeled set\n",
    "    Yk_zlg = np.append(Yk_zlg,Yu_zlg[query_idx])\n",
    "    Xk_zlg = np.append(Xk_zlg,[Xu_zlg[query_idx,:]],axis=0)\n",
    "    n_l += 1\n",
    "    labeled_zlg.append(unlabeled_zlg.pop(0))  # move first element in unlabeled to end of labeled list\n",
    "#     print(Yk_zlg.shape,Xk_zlg.shape, n_l, len(labeled_zlg) )\n",
    "    \n",
    "    # remove instance from unlabeled set\n",
    "    Yu_zlg = np.delete(Yu_zlg,query_idx)\n",
    "    Xu_zlg = np.delete(Xu_zlg,query_idx, 0)\n",
    "#     print(Yu_zlg.shape,Xu_zlg.shape, len(unlabeled_zlg) )\n",
    "#     print()\n",
    "    \n",
    "    # update Laplacian\n",
    "    Delta = zlg.laplacian_matrix(np.concatenate((Xk_zlg,Xu_zlg),axis=0), t=0)\n",
    "    \n",
    "    # calculate minimum energy solution for remaining unlabeled\n",
    "    fu, Delta_uu_inv = zlg.minimum_energy_solution(Delta,labeled_zlg, unlabeled_zlg,Yk_zlg)\n",
    "\n",
    "    ## TODO ##"
   ]
  },
  {
   "cell_type": "markdown",
   "id": "rolled-agriculture",
   "metadata": {},
   "source": [
    "### Random Query"
   ]
  },
  {
   "cell_type": "markdown",
   "id": "falling-violin",
   "metadata": {},
   "source": [
    "# 1.6. Bonus question \n",
    "\n",
    "**Answer the following questions. (Your grade will not exceed 100 for this homework.)**\n",
    "\n",
    "#### 1. For this dataset, how many labeled data points do you actually need to train the model sufficiently well? \n",
    "#### 2. And why?"
   ]
  }
 ],
 "metadata": {
  "kernelspec": {
   "display_name": "Python 3",
   "language": "python",
   "name": "python3"
  },
  "language_info": {
   "codemirror_mode": {
    "name": "ipython",
    "version": 3
   },
   "file_extension": ".py",
   "mimetype": "text/x-python",
   "name": "python",
   "nbconvert_exporter": "python",
   "pygments_lexer": "ipython3",
   "version": "3.6.12"
  }
 },
 "nbformat": 4,
 "nbformat_minor": 5
}
