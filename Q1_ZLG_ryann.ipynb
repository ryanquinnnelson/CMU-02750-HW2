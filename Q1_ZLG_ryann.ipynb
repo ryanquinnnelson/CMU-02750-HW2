{
 "cells": [
  {
   "cell_type": "markdown",
   "id": "honey-dubai",
   "metadata": {},
   "source": [
    "## Question 1. ZLG algorithm implementation (50 points)\n",
    "**You are to implement the ZLG algorithm for this problem.**\n",
    "- **We will use a subset of multiclass data where the label is a protein subcellular localization.**\n",
    "- **The 8 features are extracted from the protein sequence.**\n",
    "- **For this problem we are only using points with labels `MIT` or `NUC`.**\n",
    "- **A total of 673 data points have labels `MIT` or `NUC`. We start with the labels of only the first 200 data points (set `Y_k`). The other 473 points are in `Y_u`.**"
   ]
  },
  {
   "cell_type": "markdown",
   "id": "instrumental-bench",
   "metadata": {},
   "source": [
    "\n",
    "# 1.0. Part 0. (15 points)\n",
    "**First, read the paper and answer the following questions.**\n",
    "#### 1. What is the idea behind the ZLG algorithm (5 points)?\n",
    "\n",
    "\n",
    "#### 2. What are the assumptions behind the ZLG algorithm (5 points)?\n",
    "\n",
    "\n",
    "#### 3. What are the pros and cons of the ZLG algorithm (5points)?\n",
    "\n"
   ]
  },
  {
   "cell_type": "markdown",
   "id": "right-peninsula",
   "metadata": {},
   "source": [
    "### Imports"
   ]
  },
  {
   "cell_type": "code",
   "execution_count": 1,
   "id": "latest-salad",
   "metadata": {},
   "outputs": [],
   "source": [
    "import numpy as np\n",
    "import pandas as pd \n",
    "import copy\n",
    "import matplotlib.pyplot as plt\n",
    "from scipy.spatial import distance_matrix\n",
    "from sklearn.preprocessing import LabelEncoder\n",
    "\n",
    "import packages.zlg.zlg as zlg"
   ]
  },
  {
   "cell_type": "markdown",
   "id": "reduced-murder",
   "metadata": {},
   "source": [
    "### Data Prep"
   ]
  },
  {
   "cell_type": "code",
   "execution_count": 2,
   "id": "favorite-settlement",
   "metadata": {},
   "outputs": [
    {
     "name": "stdout",
     "output_type": "stream",
     "text": [
      "shape (673, 9)\n",
      "unique labels ['MIT' 'NUC']\n"
     ]
    },
    {
     "data": {
      "text/html": [
       "<div>\n",
       "<style scoped>\n",
       "    .dataframe tbody tr th:only-of-type {\n",
       "        vertical-align: middle;\n",
       "    }\n",
       "\n",
       "    .dataframe tbody tr th {\n",
       "        vertical-align: top;\n",
       "    }\n",
       "\n",
       "    .dataframe thead th {\n",
       "        text-align: right;\n",
       "    }\n",
       "</style>\n",
       "<table border=\"1\" class=\"dataframe\">\n",
       "  <thead>\n",
       "    <tr style=\"text-align: right;\">\n",
       "      <th></th>\n",
       "      <th>X1</th>\n",
       "      <th>X2</th>\n",
       "      <th>X3</th>\n",
       "      <th>X4</th>\n",
       "      <th>X5</th>\n",
       "      <th>X6</th>\n",
       "      <th>X7</th>\n",
       "      <th>X8</th>\n",
       "      <th>Label</th>\n",
       "    </tr>\n",
       "  </thead>\n",
       "  <tbody>\n",
       "    <tr>\n",
       "      <th>0</th>\n",
       "      <td>0.58</td>\n",
       "      <td>0.61</td>\n",
       "      <td>0.47</td>\n",
       "      <td>0.13</td>\n",
       "      <td>0.5</td>\n",
       "      <td>0.0</td>\n",
       "      <td>0.48</td>\n",
       "      <td>0.22</td>\n",
       "      <td>MIT</td>\n",
       "    </tr>\n",
       "    <tr>\n",
       "      <th>1</th>\n",
       "      <td>0.43</td>\n",
       "      <td>0.67</td>\n",
       "      <td>0.48</td>\n",
       "      <td>0.27</td>\n",
       "      <td>0.5</td>\n",
       "      <td>0.0</td>\n",
       "      <td>0.53</td>\n",
       "      <td>0.22</td>\n",
       "      <td>MIT</td>\n",
       "    </tr>\n",
       "    <tr>\n",
       "      <th>2</th>\n",
       "      <td>0.64</td>\n",
       "      <td>0.62</td>\n",
       "      <td>0.49</td>\n",
       "      <td>0.15</td>\n",
       "      <td>0.5</td>\n",
       "      <td>0.0</td>\n",
       "      <td>0.53</td>\n",
       "      <td>0.22</td>\n",
       "      <td>MIT</td>\n",
       "    </tr>\n",
       "    <tr>\n",
       "      <th>3</th>\n",
       "      <td>0.58</td>\n",
       "      <td>0.44</td>\n",
       "      <td>0.57</td>\n",
       "      <td>0.13</td>\n",
       "      <td>0.5</td>\n",
       "      <td>0.0</td>\n",
       "      <td>0.54</td>\n",
       "      <td>0.22</td>\n",
       "      <td>NUC</td>\n",
       "    </tr>\n",
       "    <tr>\n",
       "      <th>4</th>\n",
       "      <td>0.42</td>\n",
       "      <td>0.44</td>\n",
       "      <td>0.48</td>\n",
       "      <td>0.54</td>\n",
       "      <td>0.5</td>\n",
       "      <td>0.0</td>\n",
       "      <td>0.48</td>\n",
       "      <td>0.22</td>\n",
       "      <td>MIT</td>\n",
       "    </tr>\n",
       "  </tbody>\n",
       "</table>\n",
       "</div>"
      ],
      "text/plain": [
       "     X1    X2    X3    X4   X5   X6    X7    X8 Label\n",
       "0  0.58  0.61  0.47  0.13  0.5  0.0  0.48  0.22   MIT\n",
       "1  0.43  0.67  0.48  0.27  0.5  0.0  0.53  0.22   MIT\n",
       "2  0.64  0.62  0.49  0.15  0.5  0.0  0.53  0.22   MIT\n",
       "3  0.58  0.44  0.57  0.13  0.5  0.0  0.54  0.22   NUC\n",
       "4  0.42  0.44  0.48  0.54  0.5  0.0  0.48  0.22   MIT"
      ]
     },
     "execution_count": 2,
     "metadata": {},
     "output_type": "execute_result"
    }
   ],
   "source": [
    "data = pd.read_csv('data/data.csv')\n",
    "print('shape',data.shape)\n",
    "print('unique labels', data.Label.unique())\n",
    "data.head(5)"
   ]
  },
  {
   "cell_type": "code",
   "execution_count": 3,
   "id": "spatial-violation",
   "metadata": {},
   "outputs": [
    {
     "name": "stdout",
     "output_type": "stream",
     "text": [
      "(673, 8)\n",
      "(673,)\n"
     ]
    }
   ],
   "source": [
    "# filter out records without desired labels\n",
    "data_MITNUC = data.loc[data['Label'].isin(['MIT','NUC'])].values\n",
    "\n",
    "# split data into features and target, encode target classes as 0 or 1\n",
    "X = data_MITNUC[:,:8]\n",
    "y = LabelEncoder().fit_transform(data_MITNUC[:,-1])\n",
    "\n",
    "print(X.shape)\n",
    "print(y.shape)"
   ]
  },
  {
   "cell_type": "code",
   "execution_count": 4,
   "id": "therapeutic-bowling",
   "metadata": {},
   "outputs": [
    {
     "name": "stdout",
     "output_type": "stream",
     "text": [
      "(200, 8)\n",
      "(200,)\n",
      "(473, 8)\n",
      "(473,)\n"
     ]
    }
   ],
   "source": [
    "# split data into first 200 records and remainder\n",
    "n_l = 200\n",
    "\n",
    "Xk = X[:n_l,:]\n",
    "Yk = y[:n_l]\n",
    "Xu = X[n_l:,:]\n",
    "Yu = y[n_l:]\n",
    "\n",
    "print(Xk.shape)\n",
    "print(Yk.shape)\n",
    "print(Xu.shape)\n",
    "print(Yu.shape)"
   ]
  },
  {
   "cell_type": "markdown",
   "id": "professional-communication",
   "metadata": {},
   "source": [
    "# 1.1. Part 1 (5 points)\n",
    "**TODO:**\n",
    "- **Let's first construct the weight matrix W.**\n",
    "- **Use $t = 0$ and $\\sigma$ as the standard deviation of $X$.**\n",
    "- **Then calculate the $D$ matrix and the Laplacian matrix (Delta).**"
   ]
  },
  {
   "cell_type": "markdown",
   "id": "advanced-homework",
   "metadata": {},
   "source": [
    "#### Radial basis function (RBF):\n",
    "Calculates similarity between points $x_i$ and $x_j$.\n",
    "\n",
    "$$w_{ij}=\\exp{\\left( -\\frac{1}{\\sigma^2}\\sum_{d=1}^m (x_{id} - x_{jd})^2 \\right)}$$"
   ]
  },
  {
   "cell_type": "code",
   "execution_count": 5,
   "id": "purple-profit",
   "metadata": {},
   "outputs": [],
   "source": [
    "# laplacian_matrix() implemented in custom Python package zlg"
   ]
  },
  {
   "cell_type": "markdown",
   "id": "swiss-steal",
   "metadata": {},
   "source": [
    "# 1.2. Part 2 (5 points) \n",
    "**TODO:**\n",
    "- **Now complete the subroutine to compute the minimum-energy solution for the unlabeled instances. (Hint: Use the formula in page 38, Lecture 7.)** \n",
    "- **The function also outputs one submatrix that we will use to select points to query.**"
   ]
  },
  {
   "cell_type": "markdown",
   "id": "romance-visitor",
   "metadata": {},
   "source": [
    "#### Minimum energy $f_u$\n",
    "\n",
    "$$f_u = -\\Delta_{uu}^{-1}\\Delta_{ul}f_l$$"
   ]
  },
  {
   "cell_type": "code",
   "execution_count": 6,
   "id": "reserved-roots",
   "metadata": {},
   "outputs": [],
   "source": [
    "# minimum_energy_solution() implemented in custom Python package zlg"
   ]
  },
  {
   "cell_type": "markdown",
   "id": "cultural-point",
   "metadata": {},
   "source": [
    "# 1.3. Part 3 (15 points) \n",
    "**TODO:**\n",
    "- **We would like to query the points that minimize the expected risk. To do so, we want to be able to calculate the expected estimated risk after querying any point $k$.**\n",
    "- **The variable `Rhat_fplus_xk` refers to $\\hat{R}(f^{+x_k})$.**\n",
    "- **`fu_xk0` is $f_u^{+(x_k,0)}$ and vice versa for `fu_xk1`.**"
   ]
  },
  {
   "cell_type": "markdown",
   "id": "useful-horror",
   "metadata": {},
   "source": [
    "#### Expected risk:\n",
    "\n",
    "$$\\hat{R}\\left( f^{+(x_k,y_k)} \\right)=\\sum_{i=1}^n min\\left( f_i^{+(x_k,y_k)},1-f_i^{+(x_k,y_k)}\\right)$$\n",
    "\n",
    "where \n",
    "- $f^{+(x_k,y_k)}$ is a n x 1 vector of the updated minimum energy solution for n unlabeled points if point $k$ was labeled\n",
    "- $f_i^{+(x_k,y_k)}$ is the updated minimum energy solution of the ith unlabeled point if point $k$ was labeled\n",
    "\n",
    "***\n",
    "\n",
    "#### Expected estimated risk:\n",
    "\n",
    "$$\\hat{R}\\left( f^{+x_k} \\right)=\n",
    "(1-f_k)\\hat{R}\\left( f^{+(x_k,0)} \\right)\n",
    "+   f_k\\hat{R}\\left( f^{+(x_k,1)} \\right)$$\n",
    "\n",
    "where\n",
    "- $f_i^{+(x_k,0)}$ is the updated minimum energy solution of the ith unlabeled point if point $k$ was labeled with $y_k=0$\n",
    "- $f_i^{+(x_k,1)}$ is the updated minimum energy solution of the ith unlabeled point if point $k$ was labeled with $y_k=1$\n",
    "- $f_k$ is the current minimum energy solution of the kth unlabeled point\n",
    "\n",
    "\n",
    "***\n",
    "\n",
    "#### Conditional Distribution of all unlabeled nodes:\n",
    "\n",
    "$$f_u^{+(x_k,y_k)}=f_u+(y_k-f_k)\\frac{(\\Delta_{uu}^{-1})_{ \\cdot k}}{(\\Delta_{uu}^{-1})_{kk}}$$\n",
    "\n",
    "where\n",
    "- $f_u$ is the updated minimum energy solution of unlabeled points if instance $x_k$ was labeled with $y_k$\n",
    "- $f_k$ is the current minimum energy solution of the kth unlabeled point\n",
    "- $\\Delta_{uu_{. k}}^{-1}$ is the kth column of the inverse Laplacian on unlabeled data\n",
    "- $\\Delta_{uu_{kk}}^{-1}$ is the kth diagonal element of the same matrix\n"
   ]
  },
  {
   "cell_type": "code",
   "execution_count": 7,
   "id": "possible-thailand",
   "metadata": {},
   "outputs": [],
   "source": [
    "# expected_estimated_risk() implemented in custom Python package zlg"
   ]
  },
  {
   "cell_type": "markdown",
   "id": "fresh-richardson",
   "metadata": {},
   "source": [
    "# 1.4. Part 4 (5 points) \n",
    "**TODO:**\n",
    "- **Compute the above expected estimated risk for all unlabeled points and select one to query.**"
   ]
  },
  {
   "cell_type": "code",
   "execution_count": 8,
   "id": "ready-belle",
   "metadata": {},
   "outputs": [],
   "source": [
    "# zlg_query() implemented in custom Python package zlg"
   ]
  },
  {
   "cell_type": "markdown",
   "id": "acoustic-riding",
   "metadata": {},
   "source": [
    "# 1.5. Part 5\n",
    "**TODO:**\n",
    "- **Let's try query 100 points. Which points are queried?** \n",
    "- **Compare with random queries and make a plot.**"
   ]
  },
  {
   "cell_type": "code",
   "execution_count": 9,
   "id": "juvenile-plain",
   "metadata": {},
   "outputs": [
    {
     "name": "stdout",
     "output_type": "stream",
     "text": [
      "test score_model()\n"
     ]
    }
   ],
   "source": [
    "def score_model(f_u, y_true):\n",
    "    y_pred = np.round(f_u)\n",
    "    \n",
    "    if y_pred.shape[0] != y_true.shape[0]:\n",
    "        raise ValueError('Arrays must be the same size to compare.')\n",
    "    \n",
    "    err_count = 0\n",
    "    for i in range(y_pred.shape[0]):\n",
    "        if y_pred[i] != y_true[i]:\n",
    "            err_count += 1\n",
    "    \n",
    "    return (y_pred.shape[0]-err_count) / y_pred.shape[0]\n",
    "\n",
    "\n",
    "print('test score_model()')\n",
    "a = np.array([0.5,0.7,0.1])\n",
    "b = np.array([1,0,0])\n",
    "assert score_model(a,b) == 1/3"
   ]
  },
  {
   "cell_type": "code",
   "execution_count": 10,
   "id": "answering-place",
   "metadata": {},
   "outputs": [],
   "source": [
    "def plot_accuracy(accuracy):\n",
    "    plt.xlabel('Number of queries')\n",
    "    plt.ylabel('Accuracy')\n",
    "    plt.title('Number of queries vs Accuracy')\n",
    "    plt.plot(accuracy)\n",
    "    plt.show()"
   ]
  },
  {
   "cell_type": "markdown",
   "id": "molecular-albert",
   "metadata": {},
   "source": [
    "### ZLG Query"
   ]
  },
  {
   "cell_type": "code",
   "execution_count": 11,
   "id": "earned-binary",
   "metadata": {},
   "outputs": [
    {
     "name": "stdout",
     "output_type": "stream",
     "text": [
      "CPU times: user 2min 22s, sys: 1.4 s, total: 2min 23s\n",
      "Wall time: 1min 24s\n"
     ]
    }
   ],
   "source": [
    "%%time\n",
    "\n",
    "# copy data for use in this section\n",
    "Xk_zlg = copy.deepcopy(Xk)\n",
    "Yk_zlg = copy.deepcopy(Yk)\n",
    "Xu_zlg = copy.deepcopy(Xu)\n",
    "Yu_zlg = copy.deepcopy(Yu)\n",
    "\n",
    "# variables\n",
    "n_samples = X.shape[0]\n",
    "n_l = Xk_zlg.shape[0]\n",
    "labeled_zlg = [i for i in range(200)]\n",
    "unlabeled_zlg = [i for i in range(200,673)]\n",
    "\n",
    "# initialize components\n",
    "Delta = zlg.laplacian_matrix(X,t=0)\n",
    "fu,Delta_uu_inv = zlg.minimum_energy_solution(Delta,labeled_zlg,unlabeled_zlg,Yk)\n",
    "\n",
    "\n",
    "# run required iterations\n",
    "queried_zlg = []\n",
    "scores_zlg = []\n",
    "for count in range(100):\n",
    "    \n",
    "    # select unlabeled instance \n",
    "    query_idx = zlg.zlg_query(fu, Delta_uu_inv,n_l,n_samples)\n",
    "    queried_zlg.append(query_idx)\n",
    "    \n",
    "    # add instance to labeled set\n",
    "    Yk_zlg = np.append(Yk_zlg,Yu_zlg[query_idx])\n",
    "    Xk_zlg = np.append(Xk_zlg,[Xu_zlg[query_idx,:]],axis=0)\n",
    "    n_l += 1\n",
    "    labeled_zlg.append(unlabeled_zlg.pop(0))  # move first element in unlabeled to end of labeled list\n",
    "    \n",
    "    # remove instance from unlabeled set\n",
    "    Yu_zlg = np.delete(Yu_zlg,query_idx)\n",
    "    Xu_zlg = np.delete(Xu_zlg,query_idx, 0)\n",
    "    \n",
    "    # update Laplacian\n",
    "    Delta = zlg.laplacian_matrix(np.concatenate((Xk_zlg,Xu_zlg),axis=0), t=0)\n",
    "    \n",
    "    # calculate minimum energy solution for remaining unlabeled\n",
    "    fu, Delta_uu_inv = zlg.minimum_energy_solution(Delta,labeled_zlg, unlabeled_zlg,Yk_zlg)\n",
    "    \n",
    "    # score model by testing on all unlabeled points left at each step\n",
    "    scores_zlg.append(score_model(fu, Yu_zlg))"
   ]
  },
  {
   "cell_type": "code",
   "execution_count": 18,
   "id": "heard-reducing",
   "metadata": {},
   "outputs": [
    {
     "data": {
      "image/png": "[encoded data removed]",
      "text/plain": [
       "<Figure size 432x288 with 1 Axes>"
      ]
     },
     "metadata": {
      "needs_background": "light"
     },
     "output_type": "display_data"
    },
    {
     "name": "stdout",
     "output_type": "stream",
     "text": [
      "Highest accuracy: 0.864\n"
     ]
    }
   ],
   "source": [
    "plot_accuracy(scores_zlg)\n",
    "print('Highest accuracy:', max(scores_zlg))"
   ]
  },
  {
   "cell_type": "code",
   "execution_count": 13,
   "id": "global-banana",
   "metadata": {},
   "outputs": [
    {
     "name": "stdout",
     "output_type": "stream",
     "text": [
      "List of queried points\n",
      "[115, 123, 228, 178, 16, 130, 388, 41, 74, 101, 345, 89, 223, 244, 379, 226, 146, 85, 97, 311, 261, 86, 147, 380, 151, 215, 91, 74, 198, 114, 83, 235, 88, 78, 118, 187, 105, 7, 56, 333, 378, 93, 202, 134, 264, 153, 81, 69, 224, 134, 266, 73, 83, 72, 52, 383, 149, 76, 62, 383, 75, 87, 385, 232, 49, 231, 134, 145, 252, 140, 104, 232, 43, 22, 373, 54, 141, 237, 193, 88, 70, 17, 11, 253, 97, 190, 258, 42, 151, 44, 116, 285, 57, 90, 123, 126, 255, 164, 125, 124]\n"
     ]
    }
   ],
   "source": [
    "print('List of queried points')\n",
    "print(queried_zlg)"
   ]
  },
  {
   "cell_type": "markdown",
   "id": "southern-mailman",
   "metadata": {},
   "source": [
    "### Random Query"
   ]
  },
  {
   "cell_type": "code",
   "execution_count": 14,
   "id": "fundamental-madison",
   "metadata": {},
   "outputs": [
    {
     "name": "stdout",
     "output_type": "stream",
     "text": [
      "CPU times: user 1min 54s, sys: 804 ms, total: 1min 55s\n",
      "Wall time: 54.6 s\n"
     ]
    }
   ],
   "source": [
    "%%time\n",
    "\n",
    "# copy data for use in this section\n",
    "Xk_rand = copy.deepcopy(Xk)\n",
    "Yk_rand = copy.deepcopy(Yk)\n",
    "Xu_rand = copy.deepcopy(Xu)\n",
    "Yu_rand = copy.deepcopy(Yu)\n",
    "\n",
    "# variables\n",
    "n_samples = X.shape[0]\n",
    "n_l = Xk_rand.shape[0]\n",
    "labeled_rand = [i for i in range(200)]\n",
    "unlabeled_rand = [i for i in range(200,673)]\n",
    "\n",
    "# initialize components\n",
    "Delta = zlg.laplacian_matrix(X,t=0)\n",
    "fu,Delta_uu_inv = zlg.minimum_energy_solution(Delta,labeled_rand,unlabeled_rand,Yk)\n",
    "\n",
    "\n",
    "# run required iterations\n",
    "queried_rand = []\n",
    "scores_rand = []\n",
    "for count in range(100):\n",
    "    \n",
    "    # select unlabeled instance \n",
    "    query_idx = np.random.randint(low=0,high=len(unlabeled_rand),size=1)[0] # random unlabeled point\n",
    "    queried_rand.append(query_idx)\n",
    "\n",
    "    # add instance to labeled set\n",
    "    Yk_rand = np.append(Yk_rand,Yu_rand[query_idx])\n",
    "    Xk_rand = np.append(Xk_rand,[Xu_rand[query_idx,:]],axis=0)\n",
    "    n_l += 1\n",
    "    labeled_rand.append(unlabeled_rand.pop(0))  # move first element in unlabeled to end of labeled list\n",
    "\n",
    "    # remove instance from unlabeled set\n",
    "    Yu_rand = np.delete(Yu_rand,query_idx)\n",
    "    Xu_rand = np.delete(Xu_rand,query_idx, 0)\n",
    "\n",
    "    # update Laplacian\n",
    "    Delta = zlg.laplacian_matrix(np.concatenate((Xk_rand,Xu_rand),axis=0), t=0)\n",
    "\n",
    "    # calculate minimum energy solution for remaining unlabeled\n",
    "    fu, Delta_uu_inv = zlg.minimum_energy_solution(Delta,labeled_rand, unlabeled_rand,Yk_rand)\n",
    "\n",
    "    # score model by testing on all unlabeled points left at each step\n",
    "    scores_rand.append(score_model(fu, Yu_rand))"
   ]
  },
  {
   "cell_type": "code",
   "execution_count": 19,
   "id": "based-bishop",
   "metadata": {},
   "outputs": [
    {
     "data": {
      "image/png": "[encoded data removed]",
      "text/plain": [
       "<Figure size 432x288 with 1 Axes>"
      ]
     },
     "metadata": {
      "needs_background": "light"
     },
     "output_type": "display_data"
    },
    {
     "name": "stdout",
     "output_type": "stream",
     "text": [
      "Highest accuracy: 0.7941952506596306\n"
     ]
    }
   ],
   "source": [
    "plot_accuracy(scores_rand)\n",
    "print('Highest accuracy:', max(scores_rand))"
   ]
  },
  {
   "cell_type": "code",
   "execution_count": 16,
   "id": "looking-reservation",
   "metadata": {},
   "outputs": [
    {
     "name": "stdout",
     "output_type": "stream",
     "text": [
      "List of queried points\n",
      "[131, 145, 452, 121, 449, 311, 9, 156, 6, 340, 218, 80, 355, 51, 120, 106, 357, 424, 310, 184, 289, 219, 346, 250, 37, 45, 437, 412, 0, 13, 76, 278, 17, 331, 42, 163, 98, 426, 230, 387, 410, 309, 388, 47, 254, 327, 144, 42, 246, 82, 43, 414, 164, 142, 17, 248, 115, 214, 44, 303, 412, 202, 146, 365, 327, 316, 117, 260, 192, 339, 73, 263, 233, 296, 231, 289, 288, 58, 275, 329, 362, 199, 97, 168, 2, 5, 11, 169, 197, 174, 263, 116, 171, 168, 179, 216, 10, 281, 241, 147]\n"
     ]
    }
   ],
   "source": [
    "print('List of queried points')\n",
    "print(queried_rand)"
   ]
  },
  {
   "cell_type": "markdown",
   "id": "serial-album",
   "metadata": {},
   "source": [
    "### Comparison"
   ]
  },
  {
   "cell_type": "code",
   "execution_count": 17,
   "id": "young-airline",
   "metadata": {},
   "outputs": [
    {
     "data": {
      "image/png": "[encoded data removed]",
      "text/plain": [
       "<Figure size 780x520 with 1 Axes>"
      ]
     },
     "metadata": {
      "needs_background": "light"
     },
     "output_type": "display_data"
    }
   ],
   "source": [
    "# plot both together\n",
    "fig, ax = plt.subplots(dpi=130)\n",
    "ax.plot(scores_zlg, label='ZLG Query')\n",
    "ax.plot(scores_rand,label='Random Query')\n",
    "plt.xlabel('Number of queries')\n",
    "plt.ylabel('Accuracy')\n",
    "plt.title('Number of queries vs. Accuracy')\n",
    "plt.grid()\n",
    "plt.legend()       \n",
    "plt.show()"
   ]
  },
  {
   "cell_type": "markdown",
   "id": "serial-lounge",
   "metadata": {},
   "source": [
    "# 1.6. Bonus question \n",
    "\n",
    "**Answer the following questions. (Your grade will not exceed 100 for this homework.)**\n",
    "\n",
    "#### 1. For this dataset, how many labeled data points do you actually need to train the model sufficiently well? \n",
    "#### 2. And why?"
   ]
  }
 ],
 "metadata": {
  "kernelspec": {
   "display_name": "Python 3",
   "language": "python",
   "name": "python3"
  },
  "language_info": {
   "codemirror_mode": {
    "name": "ipython",
    "version": 3
   },
   "file_extension": ".py",
   "mimetype": "text/x-python",
   "name": "python",
   "nbconvert_exporter": "python",
   "pygments_lexer": "ipython3",
   "version": "3.6.12"
  }
 },
 "nbformat": 4,
 "nbformat_minor": 5
}
