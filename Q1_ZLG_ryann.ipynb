{
 "cells": [
  {
   "cell_type": "markdown",
   "id": "unlike-rebecca",
   "metadata": {},
   "source": [
    "## Question 1. ZLG algorithm implementation (50 points)\n",
    "**You are to implement the ZLG algorithm for this problem.**\n",
    "- **We will use a subset of multiclass data where the label is a protein subcellular localization.**\n",
    "- **The 8 features are extracted from the protein sequence.**\n",
    "- **For this problem we are only using points with labels `MIT` or `NUC`.**\n",
    "- **A total of 673 data points have labels `MIT` or `NUC`. We start with the labels of only the first 200 data points (set `Y_k`). The other 473 points are in `Y_u`.**"
   ]
  },
  {
   "cell_type": "markdown",
   "id": "danish-atlantic",
   "metadata": {},
   "source": [
    "\n",
    "# 1.0. Part 0. (15 points)\n",
    "**First, read the paper and answer the following questions.**\n",
    "### 1. What is the idea behind the ZLG algorithm (5 points)?\n",
    "\n",
    "#### Formal Version\n",
    "ZLG is a Type II active learning algorithm used for binary classification on a pool-based data access model. It \n",
    "labels instances based on expected risk, and it comes with no guarantees of performance or label complexity.\n",
    "\n",
    "The algorithm starts by building a weighted graph over a pool of labeled and unlabeled instances, with edges connecting \n",
    "instances which are deemed \"similar enough.\" ZLG uses the graph and known labels to construct a probability \n",
    "distribution over the unlabeled instances. It finds the optimal labeling solution for the distribution in closed-form,\n",
    "producing label predictions for all unlabeled instances.\n",
    "\n",
    "ZLG uses these predictions to calculate the expected risk of inferring labels for all unlabeled instances.\n",
    "The algorithm searches through the unlabeled \n",
    "instances to find the one which, when labeled, reduces the expected risk the most. ZLG queries the label for this instance and updates label\n",
    "predictions for all unlabeled instances based on the label. This search process is \n",
    "repeated until a defined stopping point, at which point we use the current label predictions to label all unlabeled \n",
    "instances.\n",
    "\n",
    "#### Informal Version\n",
    "*In layman's terms, ZLG starts with the idea that if we assume data has natural clusters, we can also assume that \n",
    "two data points which are close together are likely to have the same label. Under this theory, labeled instances \n",
    "surrounding an unlabeled instance \"influence\" what the label ought to be, with the amount of influence depending on \n",
    "how similar a labeled instance is to the unlabeled one.* \n",
    "\n",
    "*ZLG models this influence as a system of energy, with each data point radiating energy outward onto all of its \n",
    "neighbors. Data points with similar labels \"vibrate\" at similar wavelengths, creating resonance; data points \n",
    "with different labels vibrate at different wavelengths, creating dissonance. By considering the energies of all \n",
    "of the points, we can determine the energy of the overall system. ZLG leverages the well-studied principles of a system of energy (Boltzmann distribution) to efficiently estimate a \n",
    "labeling which produces a system with the least energy (i.e. least dissonance), given the current set of labeled instances. The estimates represents what the labels should be when considered as a system of energy.*\n",
    "\n",
    "*Given that this is an estimate, there is some risk that the predicted labels are wrong. Until its query budget is used up, ZLG repeatedly searches for the best instances to query to minimize this risk, updating its predictions along the way.*\n",
    "\n",
    "\n",
    "\n",
    "\n",
    "### 2. What are the assumptions behind the ZLG algorithm (5 points)?\n",
    "- ZLG assumes that a Radial Basis Function provides a good measurement of the similarity between data points.\n",
    "- ZLG assumes that the labels follow a Boltzmann distribution\n",
    "- ZLG assumes that inferred labelings, given the labeled data, follow a Multivariate Gaussian distribution\n",
    "- ZLG assumes that expected risk is the best strategy for selecting points to label\n",
    "- ZLG assumes that all of the features have equal importance when calculating similarity\n",
    "- ZLG assumes we have a pool of data.\n",
    "- ZLG assumes we have binary labels.\n",
    "\n",
    "\n",
    "### 3. What are the pros and cons of the ZLG algorithm (5 points)?\n",
    "#### Pros\n",
    "- ZLG allows for very efficient label estimates and decisions for which points to label.\n",
    "- ZLG uses well-known techniques like the Laplacian matrix, which helps with comprehension of the algorithm and what it is doing.\n",
    "- ZLG uses expected risk as the query selection strategy, which is a more rigorous method than uncertainty.\n",
    "\n",
    "\n",
    "#### Cons\n",
    "- ZLG does not come with performance or label complexity guarantees.\n",
    "- ZLG makes a number of assumptions about the relationship of the labels to the data points, for mathematical convenience. If those assumptions do not hold, then the model may not perform well.\n",
    "- A lot of importance is put on accurately representing the similarity of two data points. If certain features of data points are more important than others, ZLG does not take this into account when calculating weights. This could lead to a less performant model overall.\n"
   ]
  },
  {
   "cell_type": "markdown",
   "id": "special-slovenia",
   "metadata": {},
   "source": [
    "### Imports"
   ]
  },
  {
   "cell_type": "code",
   "execution_count": 1,
   "id": "circular-voluntary",
   "metadata": {},
   "outputs": [],
   "source": [
    "import numpy as np\n",
    "import pandas as pd \n",
    "import copy\n",
    "import matplotlib.pyplot as plt\n",
    "from scipy.spatial import distance_matrix\n",
    "from sklearn.preprocessing import LabelEncoder\n",
    "\n",
    "import packages.zlg.zlg as zlg"
   ]
  },
  {
   "cell_type": "markdown",
   "id": "olive-diagram",
   "metadata": {},
   "source": [
    "### Data Prep"
   ]
  },
  {
   "cell_type": "code",
   "execution_count": 2,
   "id": "general-twenty",
   "metadata": {},
   "outputs": [
    {
     "name": "stdout",
     "output_type": "stream",
     "text": [
      "shape (673, 9)\n",
      "unique labels ['MIT' 'NUC']\n"
     ]
    },
    {
     "data": {
      "text/html": [
       "<div>\n",
       "<style scoped>\n",
       "    .dataframe tbody tr th:only-of-type {\n",
       "        vertical-align: middle;\n",
       "    }\n",
       "\n",
       "    .dataframe tbody tr th {\n",
       "        vertical-align: top;\n",
       "    }\n",
       "\n",
       "    .dataframe thead th {\n",
       "        text-align: right;\n",
       "    }\n",
       "</style>\n",
       "<table border=\"1\" class=\"dataframe\">\n",
       "  <thead>\n",
       "    <tr style=\"text-align: right;\">\n",
       "      <th></th>\n",
       "      <th>X1</th>\n",
       "      <th>X2</th>\n",
       "      <th>X3</th>\n",
       "      <th>X4</th>\n",
       "      <th>X5</th>\n",
       "      <th>X6</th>\n",
       "      <th>X7</th>\n",
       "      <th>X8</th>\n",
       "      <th>Label</th>\n",
       "    </tr>\n",
       "  </thead>\n",
       "  <tbody>\n",
       "    <tr>\n",
       "      <th>0</th>\n",
       "      <td>0.58</td>\n",
       "      <td>0.61</td>\n",
       "      <td>0.47</td>\n",
       "      <td>0.13</td>\n",
       "      <td>0.5</td>\n",
       "      <td>0.0</td>\n",
       "      <td>0.48</td>\n",
       "      <td>0.22</td>\n",
       "      <td>MIT</td>\n",
       "    </tr>\n",
       "    <tr>\n",
       "      <th>1</th>\n",
       "      <td>0.43</td>\n",
       "      <td>0.67</td>\n",
       "      <td>0.48</td>\n",
       "      <td>0.27</td>\n",
       "      <td>0.5</td>\n",
       "      <td>0.0</td>\n",
       "      <td>0.53</td>\n",
       "      <td>0.22</td>\n",
       "      <td>MIT</td>\n",
       "    </tr>\n",
       "    <tr>\n",
       "      <th>2</th>\n",
       "      <td>0.64</td>\n",
       "      <td>0.62</td>\n",
       "      <td>0.49</td>\n",
       "      <td>0.15</td>\n",
       "      <td>0.5</td>\n",
       "      <td>0.0</td>\n",
       "      <td>0.53</td>\n",
       "      <td>0.22</td>\n",
       "      <td>MIT</td>\n",
       "    </tr>\n",
       "    <tr>\n",
       "      <th>3</th>\n",
       "      <td>0.58</td>\n",
       "      <td>0.44</td>\n",
       "      <td>0.57</td>\n",
       "      <td>0.13</td>\n",
       "      <td>0.5</td>\n",
       "      <td>0.0</td>\n",
       "      <td>0.54</td>\n",
       "      <td>0.22</td>\n",
       "      <td>NUC</td>\n",
       "    </tr>\n",
       "    <tr>\n",
       "      <th>4</th>\n",
       "      <td>0.42</td>\n",
       "      <td>0.44</td>\n",
       "      <td>0.48</td>\n",
       "      <td>0.54</td>\n",
       "      <td>0.5</td>\n",
       "      <td>0.0</td>\n",
       "      <td>0.48</td>\n",
       "      <td>0.22</td>\n",
       "      <td>MIT</td>\n",
       "    </tr>\n",
       "  </tbody>\n",
       "</table>\n",
       "</div>"
      ],
      "text/plain": [
       "     X1    X2    X3    X4   X5   X6    X7    X8 Label\n",
       "0  0.58  0.61  0.47  0.13  0.5  0.0  0.48  0.22   MIT\n",
       "1  0.43  0.67  0.48  0.27  0.5  0.0  0.53  0.22   MIT\n",
       "2  0.64  0.62  0.49  0.15  0.5  0.0  0.53  0.22   MIT\n",
       "3  0.58  0.44  0.57  0.13  0.5  0.0  0.54  0.22   NUC\n",
       "4  0.42  0.44  0.48  0.54  0.5  0.0  0.48  0.22   MIT"
      ]
     },
     "execution_count": 2,
     "metadata": {},
     "output_type": "execute_result"
    }
   ],
   "source": [
    "data = pd.read_csv('data/data.csv')\n",
    "print('shape',data.shape)\n",
    "print('unique labels', data.Label.unique())\n",
    "data.head(5)"
   ]
  },
  {
   "cell_type": "code",
   "execution_count": 3,
   "id": "intended-guidance",
   "metadata": {},
   "outputs": [
    {
     "name": "stdout",
     "output_type": "stream",
     "text": [
      "(673, 8)\n",
      "(673,)\n"
     ]
    }
   ],
   "source": [
    "# filter out records without desired labels\n",
    "data_MITNUC = data.loc[data['Label'].isin(['MIT','NUC'])].values\n",
    "\n",
    "# split data into features and target, encode target classes as 0 or 1\n",
    "X = data_MITNUC[:,:8]\n",
    "y = LabelEncoder().fit_transform(data_MITNUC[:,-1])\n",
    "\n",
    "print(X.shape)\n",
    "print(y.shape)"
   ]
  },
  {
   "cell_type": "code",
   "execution_count": 4,
   "id": "photographic-wildlife",
   "metadata": {},
   "outputs": [
    {
     "name": "stdout",
     "output_type": "stream",
     "text": [
      "(200, 8)\n",
      "(200,)\n",
      "(473, 8)\n",
      "(473,)\n"
     ]
    }
   ],
   "source": [
    "# split data into first 200 records and remainder\n",
    "n_l = 200\n",
    "\n",
    "Xk = X[:n_l,:]\n",
    "Yk = y[:n_l]\n",
    "Xu = X[n_l:,:]\n",
    "Yu = y[n_l:]\n",
    "\n",
    "print(Xk.shape)\n",
    "print(Yk.shape)\n",
    "print(Xu.shape)\n",
    "print(Yu.shape)"
   ]
  },
  {
   "cell_type": "markdown",
   "id": "collaborative-drilling",
   "metadata": {},
   "source": [
    "# 1.1. Part 1 (5 points)\n",
    "**TODO:**\n",
    "- **Let's first construct the weight matrix W.**\n",
    "- **Use $t = 0$ and $\\sigma$ as the standard deviation of $X$.**\n",
    "- **Calculate the $D$ matrix and the Laplacian matrix (Delta) for use in other parts.**"
   ]
  },
  {
   "cell_type": "markdown",
   "id": "intellectual-patch",
   "metadata": {},
   "source": [
    "#### Radial basis function (RBF):\n",
    "Calculates similarity between points $x_i$ and $x_j$ using squared Euclidean distance.\n",
    "\n",
    "$$w_{ij}=\\exp{\\left( -\\frac{1}{\\sigma^2}\\sum_{d=1}^m (x_{id} - x_{jd})^2 \\right)}$$"
   ]
  },
  {
   "cell_type": "code",
   "execution_count": 5,
   "id": "human-cooper",
   "metadata": {},
   "outputs": [],
   "source": [
    "# laplacian_matrix() implemented in custom Python package zlg\n",
    "# calculations are performed in Part 5"
   ]
  },
  {
   "cell_type": "markdown",
   "id": "charming-oliver",
   "metadata": {},
   "source": [
    "# 1.2. Part 2 (5 points) \n",
    "**TODO:**\n",
    "- **Now complete the subroutine to compute the minimum-energy solution for the unlabeled instances.**\n",
    "    - **Hint: Use the formula in page 38, Lecture 7.** \n",
    "- **The function also outputs one submatrix that we will use to select points to query.**"
   ]
  },
  {
   "cell_type": "markdown",
   "id": "uniform-reception",
   "metadata": {},
   "source": [
    "#### Minimum energy solution $f_u$\n",
    "\n",
    "$$f_u = -\\Delta_{uu}^{-1}\\Delta_{ul}f_l$$"
   ]
  },
  {
   "cell_type": "code",
   "execution_count": 6,
   "id": "alone-petroleum",
   "metadata": {},
   "outputs": [],
   "source": [
    "# minimum_energy_solution() implemented in custom Python package zlg"
   ]
  },
  {
   "cell_type": "markdown",
   "id": "large-neighbor",
   "metadata": {},
   "source": [
    "# 1.3. Part 3 (15 points) \n",
    "**TODO:**\n",
    "- **We would like to query the points that minimize the expected risk. To do so, we want to be able to calculate the expected estimated risk after querying any point $k$.**\n",
    "- **The variable `Rhat_fplus_xk` refers to $\\hat{R}(f^{+x_k})$.**\n",
    "- **`fu_xk0` is $f_u^{+(x_k,0)}$ and vice versa for `fu_xk1`.**"
   ]
  },
  {
   "cell_type": "markdown",
   "id": "cordless-dream",
   "metadata": {},
   "source": [
    "#### Expected risk:\n",
    "\n",
    "$$\\hat{R}\\left( f^{+(x_k,y_k)} \\right)=\\sum_{i=1}^n min\\left( f_i^{+(x_k,y_k)},1-f_i^{+(x_k,y_k)}\\right)$$\n",
    "\n",
    "where \n",
    "- $f^{+(x_k,y_k)}$ is a n x 1 vector of the updated minimum energy solution for n unlabeled points if point $k$ was labeled\n",
    "- $f_i^{+(x_k,y_k)}$ is the updated minimum energy solution of the ith unlabeled point if point $k$ was labeled\n",
    "\n",
    "***\n",
    "\n",
    "#### Expected estimated risk:\n",
    "\n",
    "$$\\hat{R}\\left( f^{+x_k} \\right)=\n",
    "(1-f_k)\\hat{R}\\left( f^{+(x_k,0)} \\right)\n",
    "+   f_k\\hat{R}\\left( f^{+(x_k,1)} \\right)$$\n",
    "\n",
    "where\n",
    "- $f_i^{+(x_k,0)}$ is the updated minimum energy solution of the ith unlabeled point if point $k$ was labeled with $y_k=0$\n",
    "- $f_i^{+(x_k,1)}$ is the updated minimum energy solution of the ith unlabeled point if point $k$ was labeled with $y_k=1$\n",
    "- $f_k$ is the current minimum energy solution of the kth unlabeled point\n",
    "\n",
    "\n",
    "***\n",
    "\n",
    "#### Conditional Distribution of all unlabeled nodes:\n",
    "\n",
    "$$f_u^{+(x_k,y_k)}=f_u+(y_k-f_k)\\frac{(\\Delta_{uu}^{-1})_{ \\cdot k}}{(\\Delta_{uu}^{-1})_{kk}}$$\n",
    "\n",
    "where\n",
    "- $f_u$ is the updated minimum energy solution of unlabeled points if instance $x_k$ was labeled with $y_k$\n",
    "- $f_k$ is the current minimum energy solution of the kth unlabeled point\n",
    "- $\\Delta_{uu_{. k}}^{-1}$ is the kth column of the inverse Laplacian on unlabeled data\n",
    "- $\\Delta_{uu_{kk}}^{-1}$ is the kth diagonal element of the same matrix\n"
   ]
  },
  {
   "cell_type": "code",
   "execution_count": 7,
   "id": "apparent-perspective",
   "metadata": {},
   "outputs": [],
   "source": [
    "# expected_estimated_risk() implemented in custom Python package zlg"
   ]
  },
  {
   "cell_type": "markdown",
   "id": "minimal-graduate",
   "metadata": {},
   "source": [
    "# 1.4. Part 4 (5 points) \n",
    "**TODO:**\n",
    "- **Compute the above expected estimated risk for all unlabeled points and select one to query.**"
   ]
  },
  {
   "cell_type": "code",
   "execution_count": 8,
   "id": "ranking-columbus",
   "metadata": {},
   "outputs": [],
   "source": [
    "# zlg_query() implemented in custom Python package zlg\n",
    "# selection occurs in Part 5"
   ]
  },
  {
   "cell_type": "markdown",
   "id": "formed-feeling",
   "metadata": {},
   "source": [
    "# 1.5. Part 5\n",
    "**TODO:**\n",
    "- **Let's try querying 100 points. Which points are queried?** \n",
    "- **Compare with random queries and make a plot.**"
   ]
  },
  {
   "cell_type": "code",
   "execution_count": 9,
   "id": "ethical-isaac",
   "metadata": {},
   "outputs": [
    {
     "name": "stdout",
     "output_type": "stream",
     "text": [
      "test score_model()\n"
     ]
    }
   ],
   "source": [
    "def score_model(f_u, y_true):\n",
    "    y_pred = np.round(f_u)\n",
    "    \n",
    "    if y_pred.shape[0] != y_true.shape[0]:\n",
    "        raise ValueError('Arrays must be the same size to compare.')\n",
    "    \n",
    "    wrong = (y_pred != y_true).sum()\n",
    "    error = wrong / len(y_true)\n",
    "    return 1.0 - error\n",
    "\n",
    "\n",
    "print('test score_model()')\n",
    "a = np.array([0.51,0.7,0.1,0.2])\n",
    "b = np.array([1,0,0,0])\n",
    "assert score_model(a,b) == 3/4, score_model(a,b)"
   ]
  },
  {
   "cell_type": "code",
   "execution_count": 10,
   "id": "valuable-nickname",
   "metadata": {},
   "outputs": [],
   "source": [
    "def plot_accuracy(accuracy):\n",
    "    plt.xlabel('Number of queries')\n",
    "    plt.ylabel('Accuracy')\n",
    "    plt.title('Number of queries vs Accuracy')\n",
    "    plt.plot(accuracy)\n",
    "    plt.show()"
   ]
  },
  {
   "cell_type": "markdown",
   "id": "associate-implementation",
   "metadata": {},
   "source": [
    "### ZLG Query"
   ]
  },
  {
   "cell_type": "code",
   "execution_count": 11,
   "id": "israeli-sarah",
   "metadata": {},
   "outputs": [
    {
     "name": "stdout",
     "output_type": "stream",
     "text": [
      "CPU times: user 2min 24s, sys: 1.35 s, total: 2min 25s\n",
      "Wall time: 1min 26s\n"
     ]
    }
   ],
   "source": [
    "%%time \n",
    "# 2 min\n",
    "\n",
    "# copy data for use in this section\n",
    "Xk_zlg = copy.deepcopy(Xk)\n",
    "Yk_zlg = copy.deepcopy(Yk)\n",
    "Xu_zlg = copy.deepcopy(Xu)\n",
    "Yu_zlg = copy.deepcopy(Yu)\n",
    "\n",
    "# variables\n",
    "n_samples = X.shape[0]\n",
    "n_l = Xk_zlg.shape[0]\n",
    "labeled_zlg = [i for i in range(200)]\n",
    "unlabeled_zlg = [i for i in range(200,673)]\n",
    "\n",
    "# initialize components\n",
    "Delta = zlg.laplacian_matrix(X,t=0)\n",
    "fu,Delta_uu_inv = zlg.minimum_energy_solution(Delta,labeled_zlg,unlabeled_zlg,Yk)\n",
    "\n",
    "\n",
    "# run required iterations\n",
    "queried_zlg = []\n",
    "scores_zlg = []\n",
    "for count in range(100):\n",
    "    \n",
    "    # select unlabeled instance \n",
    "    query_idx = zlg.zlg_query(fu, Delta_uu_inv,n_l,n_samples)\n",
    "    queried_zlg.append(query_idx)\n",
    "    \n",
    "    # add instance to labeled set\n",
    "    Yk_zlg = np.append(Yk_zlg,Yu_zlg[query_idx])\n",
    "    Xk_zlg = np.append(Xk_zlg,[Xu_zlg[query_idx,:]],axis=0)\n",
    "    n_l += 1\n",
    "    labeled_zlg.append(unlabeled_zlg.pop(0))  # move first element in unlabeled to end of labeled list\n",
    "    \n",
    "    # remove instance from unlabeled set\n",
    "    Yu_zlg = np.delete(Yu_zlg,query_idx)\n",
    "    Xu_zlg = np.delete(Xu_zlg,query_idx, 0)\n",
    "    \n",
    "    # update Laplacian\n",
    "    Delta = zlg.laplacian_matrix(np.concatenate((Xk_zlg,Xu_zlg),axis=0), t=0)\n",
    "    \n",
    "    # calculate minimum energy solution for remaining unlabeled\n",
    "    fu, Delta_uu_inv = zlg.minimum_energy_solution(Delta,labeled_zlg, unlabeled_zlg,Yk_zlg)\n",
    "    \n",
    "    # score model by testing on all unlabeled points left at each step\n",
    "    scores_zlg.append(score_model(fu, Yu_zlg))"
   ]
  },
  {
   "cell_type": "code",
   "execution_count": 12,
   "id": "crucial-opinion",
   "metadata": {},
   "outputs": [
    {
     "data": {
      "image/png": "[encoded data removed]",
      "text/plain": [
       "<Figure size 432x288 with 1 Axes>"
      ]
     },
     "metadata": {
      "needs_background": "light"
     },
     "output_type": "display_data"
    },
    {
     "name": "stdout",
     "output_type": "stream",
     "text": [
      "Highest accuracy: 0.864\n"
     ]
    }
   ],
   "source": [
    "plot_accuracy(scores_zlg)\n",
    "print('Highest accuracy:', max(scores_zlg))"
   ]
  },
  {
   "cell_type": "code",
   "execution_count": 23,
   "id": "legislative-calibration",
   "metadata": {},
   "outputs": [
    {
     "name": "stdout",
     "output_type": "stream",
     "text": [
      "List of queried points relative to unlabeled set for that round\n",
      "[115, 123, 228, 178, 16, 130, 388, 41, 74, 101, 345, 89, 223, 244, 379, 226, 146, 85, 97, 311, 261, 86, 147, 380, 151, 215, 91, 74, 198, 114, 83, 235, 88, 78, 118, 187, 105, 7, 56, 333, 378, 93, 202, 134, 264, 153, 81, 69, 224, 134, 266, 73, 83, 72, 52, 383, 149, 76, 62, 383, 75, 87, 385, 232, 49, 231, 134, 145, 252, 140, 104, 232, 43, 22, 373, 54, 141, 237, 193, 88, 70, 17, 11, 253, 97, 190, 258, 42, 151, 44, 116, 285, 57, 90, 123, 126, 255, 164, 125, 124]\n"
     ]
    }
   ],
   "source": [
    "print('List of queried points relative to unlabeled set for that round')\n",
    "print(queried_zlg)"
   ]
  },
  {
   "cell_type": "markdown",
   "id": "atlantic-rochester",
   "metadata": {},
   "source": [
    "### Version implemented as ZLG class\n",
    "This method introduces some changes upon the above method.\n",
    "- Moves the process of performing and scoring multiple queries into a class.\n",
    "- Tracks index of queried samples relative to original X, not the current unlabeled set. (See Note 1 inside zlg.py)\n",
    "- Maintains set of predicted labels internally, accessible at any time."
   ]
  },
  {
   "cell_type": "code",
   "execution_count": 14,
   "id": "healthy-wrong",
   "metadata": {},
   "outputs": [
    {
     "name": "stdout",
     "output_type": "stream",
     "text": [
      "CPU times: user 2min 22s, sys: 1.21 s, total: 2min 23s\n",
      "Wall time: 1min 24s\n"
     ]
    }
   ],
   "source": [
    "%%time\n",
    "# 2 min\n",
    "\n",
    "# copy data for use in this section\n",
    "Xk_zlg2 = copy.deepcopy(Xk)\n",
    "Yk_zlg2 = copy.deepcopy(Yk)\n",
    "Xu_zlg2 = copy.deepcopy(Xu)\n",
    "Yu_zlg2 = copy.deepcopy(Yu)\n",
    "\n",
    "model = zlg.ZLG(Xk_zlg2,Yk_zlg2,Xu_zlg2,Yu_zlg2)\n",
    "queried_zlg2, scores_zlg2 = model.improve_predictions(t=0,budget=100)"
   ]
  },
  {
   "cell_type": "code",
   "execution_count": 15,
   "id": "frozen-alias",
   "metadata": {},
   "outputs": [
    {
     "data": {
      "image/png": "[encoded data removed]",
      "text/plain": [
       "<Figure size 432x288 with 1 Axes>"
      ]
     },
     "metadata": {
      "needs_background": "light"
     },
     "output_type": "display_data"
    },
    {
     "name": "stdout",
     "output_type": "stream",
     "text": [
      "Highest accuracy: 0.864\n"
     ]
    }
   ],
   "source": [
    "plot_accuracy(scores_zlg2)\n",
    "print('Highest accuracy:', max(scores_zlg2))"
   ]
  },
  {
   "cell_type": "code",
   "execution_count": 16,
   "id": "upset-liabilities",
   "metadata": {},
   "outputs": [
    {
     "name": "stdout",
     "output_type": "stream",
     "text": [
      "List of queried points relative to original X\n",
      "[315, 324, 430, 380, 216, 333, 594, 242, 276, 304, 554, 292, 433, 455, 592, 437, 354, 288, 302, 527, 477, 290, 359, 603, 364, 431, 297, 277, 415, 326, 287, 460, 296, 282, 335, 409, 319, 207, 259, 569, 618, 308, 432, 357, 501, 379, 291, 273, 463, 361, 509, 280, 299, 279, 255, 638, 384, 289, 267, 642, 293, 312, 647, 483, 252, 484, 372, 387, 510, 381, 337, 490, 246, 224, 646, 262, 389, 500, 449, 320, 286, 219, 212, 525, 338, 452, 534, 249, 406, 253, 365, 567, 271, 331, 376, 383, 540, 428, 382, 378]\n"
     ]
    }
   ],
   "source": [
    "print('List of queried points relative to original X')\n",
    "print(queried_zlg2)"
   ]
  },
  {
   "cell_type": "code",
   "execution_count": 25,
   "id": "related-framing",
   "metadata": {},
   "outputs": [
    {
     "data": {
      "image/png": "[encoded data removed]",
      "text/plain": [
       "<Figure size 432x288 with 1 Axes>"
      ]
     },
     "metadata": {
      "needs_background": "light"
     },
     "output_type": "display_data"
    }
   ],
   "source": [
    "# visualize where queries were made within sample space\n",
    "plt.scatter(np.arange(100),queried_zlg2)\n",
    "plt.xlabel('Query Number')\n",
    "plt.ylabel('Index Position in original X')\n",
    "plt.title('Query Number vs Index Position in Original X')\n",
    "plt.show()"
   ]
  },
  {
   "cell_type": "markdown",
   "id": "european-ribbon",
   "metadata": {},
   "source": [
    "### Random Query"
   ]
  },
  {
   "cell_type": "code",
   "execution_count": 19,
   "id": "equivalent-register",
   "metadata": {},
   "outputs": [
    {
     "name": "stdout",
     "output_type": "stream",
     "text": [
      "CPU times: user 1min 53s, sys: 812 ms, total: 1min 54s\n",
      "Wall time: 54.6 s\n"
     ]
    }
   ],
   "source": [
    "%%time\n",
    "# 2 min\n",
    "\n",
    "# copy data for use in this section\n",
    "Xk_rand = copy.deepcopy(Xk)\n",
    "Yk_rand = copy.deepcopy(Yk)\n",
    "Xu_rand = copy.deepcopy(Xu)\n",
    "Yu_rand = copy.deepcopy(Yu)\n",
    "\n",
    "# variables\n",
    "n_samples = X.shape[0]\n",
    "n_l = Xk_rand.shape[0]\n",
    "labeled_rand = [i for i in range(200)]\n",
    "unlabeled_rand = [i for i in range(200,673)]\n",
    "\n",
    "# initialize components\n",
    "Delta = zlg.laplacian_matrix(X,t=0)\n",
    "fu,Delta_uu_inv = zlg.minimum_energy_solution(Delta,labeled_rand,unlabeled_rand,Yk)\n",
    "\n",
    "\n",
    "# run required iterations\n",
    "queried_rand = []\n",
    "scores_rand = []\n",
    "for count in range(100):\n",
    "    \n",
    "    # select unlabeled instance \n",
    "    query_idx = np.random.randint(low=0,high=len(unlabeled_rand),size=1)[0] # random unlabeled point\n",
    "    queried_rand.append(query_idx)\n",
    "\n",
    "    # add instance to labeled set\n",
    "    Yk_rand = np.append(Yk_rand,Yu_rand[query_idx])\n",
    "    Xk_rand = np.append(Xk_rand,[Xu_rand[query_idx,:]],axis=0)\n",
    "    n_l += 1\n",
    "    labeled_rand.append(unlabeled_rand.pop(0))  # move first element in unlabeled to end of labeled list\n",
    "\n",
    "    # remove instance from unlabeled set\n",
    "    Yu_rand = np.delete(Yu_rand,query_idx)\n",
    "    Xu_rand = np.delete(Xu_rand,query_idx, 0)\n",
    "\n",
    "    # update Laplacian\n",
    "    Delta = zlg.laplacian_matrix(np.concatenate((Xk_rand,Xu_rand),axis=0), t=0)\n",
    "\n",
    "    # calculate minimum energy solution for remaining unlabeled\n",
    "    fu, Delta_uu_inv = zlg.minimum_energy_solution(Delta,labeled_rand, unlabeled_rand,Yk_rand)\n",
    "\n",
    "    # score model by testing on all unlabeled points left at each step\n",
    "    scores_rand.append(score_model(fu, Yu_rand))"
   ]
  },
  {
   "cell_type": "code",
   "execution_count": 20,
   "id": "bulgarian-pastor",
   "metadata": {},
   "outputs": [
    {
     "data": {
      "image/png": "[encoded data removed]",
      "text/plain": [
       "<Figure size 432x288 with 1 Axes>"
      ]
     },
     "metadata": {
      "needs_background": "light"
     },
     "output_type": "display_data"
    },
    {
     "name": "stdout",
     "output_type": "stream",
     "text": [
      "Highest accuracy: 0.7842227378190255\n"
     ]
    }
   ],
   "source": [
    "plot_accuracy(scores_rand)\n",
    "print('Highest accuracy:', max(scores_rand))"
   ]
  },
  {
   "cell_type": "code",
   "execution_count": 21,
   "id": "passive-islam",
   "metadata": {},
   "outputs": [
    {
     "name": "stdout",
     "output_type": "stream",
     "text": [
      "List of queried points relative to unlabeled set for that round\n",
      "[361, 12, 249, 223, 114, 322, 175, 199, 107, 57, 214, 457, 364, 411, 71, 359, 148, 252, 255, 194, 207, 219, 77, 370, 311, 188, 292, 43, 65, 195, 108, 251, 356, 10, 77, 1, 302, 90, 399, 384, 424, 7, 134, 223, 332, 185, 150, 418, 49, 238, 121, 268, 288, 299, 19, 390, 187, 297, 101, 306, 276, 221, 32, 191, 155, 217, 184, 249, 119, 158, 213, 130, 362, 62, 381, 163, 219, 318, 195, 66, 331, 1, 251, 154, 255, 213, 148, 49, 349, 363, 117, 199, 256, 64, 197, 357, 114, 87, 291, 51]\n"
     ]
    }
   ],
   "source": [
    "print('List of queried points relative to unlabeled set for that round')\n",
    "print(queried_rand)"
   ]
  },
  {
   "cell_type": "markdown",
   "id": "floral-grade",
   "metadata": {},
   "source": [
    "### Comparison"
   ]
  },
  {
   "cell_type": "code",
   "execution_count": 22,
   "id": "optimum-franchise",
   "metadata": {},
   "outputs": [
    {
     "data": {
      "image/png": "[encoded data removed]",
      "text/plain": [
       "<Figure size 780x520 with 1 Axes>"
      ]
     },
     "metadata": {
      "needs_background": "light"
     },
     "output_type": "display_data"
    }
   ],
   "source": [
    "# plot both together\n",
    "fig, ax = plt.subplots(dpi=130)\n",
    "ax.plot(scores_zlg, label='ZLG Query')\n",
    "ax.plot(scores_rand,label='Random Query')\n",
    "plt.xlabel('Number of queries')\n",
    "plt.ylabel('Accuracy')\n",
    "plt.title('Number of queries vs. Accuracy')\n",
    "plt.grid()\n",
    "plt.legend()       \n",
    "plt.show()"
   ]
  },
  {
   "cell_type": "markdown",
   "id": "secure-keeping",
   "metadata": {},
   "source": [
    "# 1.6. Bonus question \n",
    "\n",
    "**Answer the following questions. (Your grade will not exceed 100 for this homework.)**\n",
    "\n",
    "#### 1. For this dataset, how many labeled data points do you actually need to train the model sufficiently well? \n",
    "#### 2. And why?"
   ]
  }
 ],
 "metadata": {
  "kernelspec": {
   "display_name": "Python 3",
   "language": "python",
   "name": "python3"
  },
  "language_info": {
   "codemirror_mode": {
    "name": "ipython",
    "version": 3
   },
   "file_extension": ".py",
   "mimetype": "text/x-python",
   "name": "python",
   "nbconvert_exporter": "python",
   "pygments_lexer": "ipython3",
   "version": "3.6.12"
  }
 },
 "nbformat": 4,
 "nbformat_minor": 5
}
